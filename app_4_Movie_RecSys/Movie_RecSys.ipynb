{
 "cells": [
  {
   "cell_type": "markdown",
   "id": "6ad4eccd-e852-4fed-8576-aef09b2017eb",
   "metadata": {},
   "source": [
    "# Machine Learning"
   ]
  },
  {
   "cell_type": "markdown",
   "id": "a4d5c3ef-5c8c-44b7-80d4-c1ff977c375d",
   "metadata": {},
   "source": [
    "***<font color='red'>NOTE :</font> This notebook is where the data was analyzed and the recommender system was built for the app. For App source code, click blue text below :*** <br><br>\n",
    "> **[Source Code](https://github.com/ChrisF03/Portfolio-Projects/blob/main/app_4_Movie_RecSys/movie-app.py)**"
   ]
  },
  {
   "cell_type": "markdown",
   "id": "917f684c-5cae-4fdc-9276-a1ce7616ac4e",
   "metadata": {},
   "source": [
    "## Topic: Movie Recommendation System"
   ]
  },
  {
   "cell_type": "markdown",
   "id": "26db96c5-75d2-4bab-8ca8-282018c374b5",
   "metadata": {},
   "source": [
    "Using recommendation systems may have been a thing of complexity and even luxury for companies in the past, but in the increasingly high-speed, high-tech world we live in today it has become a necessity to most. Recommender systems have revolutionized e-commerce, video/music streaming services, and even online dating. Corporations like Netflix, Amazon and Youtube, have vaulted themselves into being among the most valuable companies in the world due, in very large part, to the recommendation systems that consumers are so reliant on.\n",
    "\n",
    "In this project, we will build a movie recommendation system based on features such as genre, movie overview, and cast and crew, among others.  \n",
    "\n",
    "This dataset was generated from The Movie Database API, sourced from Kaggle and can be found here : \n",
    "> **[Kaggle Dataset](https://www.kaggle.com/datasets/tmdb/tmdb-movie-metadata?select=tmdb_5000_movies.csv)**\n",
    "\n",
    "The raw dataset contains 5000 movies, with release dates ranging from the year 1916 up until February 2017. "
   ]
  },
  {
   "cell_type": "code",
   "execution_count": 1,
   "id": "2f314c0b-836a-4028-b615-a6232e85450e",
   "metadata": {},
   "outputs": [],
   "source": [
    "import pandas as pd \n",
    "import numpy as np\n",
    "import matplotlib.pyplot as plt \n",
    "%matplotlib inline\n",
    "import seaborn as sns \n",
    "import ast\n",
    "from sklearn.feature_extraction.text import CountVectorizer\n",
    "import nltk\n",
    "from nltk.stem.porter import PorterStemmer\n",
    "from sklearn.metrics.pairwise import cosine_similarity\n",
    "\n",
    "import warnings\n",
    "%load_ext watermark"
   ]
  },
  {
   "cell_type": "code",
   "execution_count": 2,
   "id": "aa3c0d7a-5abb-4b00-a861-ec61d232e39b",
   "metadata": {},
   "outputs": [],
   "source": [
    "warnings.filterwarnings(\"ignore\")"
   ]
  },
  {
   "cell_type": "markdown",
   "id": "9cd40a3e-1d75-4c4d-8ffd-a6b57fe26c3e",
   "metadata": {},
   "source": [
    "# Datasets"
   ]
  },
  {
   "cell_type": "code",
   "execution_count": 3,
   "id": "830765de-b28d-4067-9391-d79bd713d9a0",
   "metadata": {},
   "outputs": [],
   "source": [
    "movies = pd.read_csv(r\"C:\\Users\\ferna\\OneDrive\\Desktop\\Movies\\tmdb_5000_movies.csv\")\n",
    "credits = pd.read_csv(r\"C:\\Users\\ferna\\OneDrive\\Desktop\\Movies\\tmdb_5000_credits.csv\")"
   ]
  },
  {
   "cell_type": "code",
   "execution_count": 4,
   "id": "0a5ea330-8a59-47c6-ac31-46db842e452a",
   "metadata": {},
   "outputs": [
    {
     "data": {
      "text/plain": [
       "(4803, 20)"
      ]
     },
     "execution_count": 4,
     "metadata": {},
     "output_type": "execute_result"
    }
   ],
   "source": [
    "movies.shape"
   ]
  },
  {
   "cell_type": "code",
   "execution_count": 5,
   "id": "64df243b-4bc1-400c-ad3c-ded7f73fa75c",
   "metadata": {},
   "outputs": [
    {
     "data": {
      "text/plain": [
       "(4803, 4)"
      ]
     },
     "execution_count": 5,
     "metadata": {},
     "output_type": "execute_result"
    }
   ],
   "source": [
    "credits.shape"
   ]
  },
  {
   "cell_type": "markdown",
   "id": "78d49649-aa71-4800-adf8-f8f3fa3903d4",
   "metadata": {},
   "source": [
    "# Merging Datasets"
   ]
  },
  {
   "cell_type": "code",
   "execution_count": 6,
   "id": "5172fbd2-81e4-4d9a-b459-bcc1edd9a9a3",
   "metadata": {},
   "outputs": [
    {
     "data": {
      "text/plain": [
       "(4809, 23)"
      ]
     },
     "execution_count": 6,
     "metadata": {},
     "output_type": "execute_result"
    }
   ],
   "source": [
    "movies = movies.merge(credits, on='title')\n",
    "movies.shape"
   ]
  },
  {
   "cell_type": "code",
   "execution_count": 7,
   "id": "5127910d-f873-4227-8b97-2a6a4313478d",
   "metadata": {},
   "outputs": [
    {
     "data": {
      "text/html": [
       "<div>\n",
       "<style scoped>\n",
       "    .dataframe tbody tr th:only-of-type {\n",
       "        vertical-align: middle;\n",
       "    }\n",
       "\n",
       "    .dataframe tbody tr th {\n",
       "        vertical-align: top;\n",
       "    }\n",
       "\n",
       "    .dataframe thead th {\n",
       "        text-align: right;\n",
       "    }\n",
       "</style>\n",
       "<table border=\"1\" class=\"dataframe\">\n",
       "  <thead>\n",
       "    <tr style=\"text-align: right;\">\n",
       "      <th></th>\n",
       "      <th>budget</th>\n",
       "      <th>genres</th>\n",
       "      <th>homepage</th>\n",
       "      <th>id</th>\n",
       "      <th>keywords</th>\n",
       "      <th>original_language</th>\n",
       "      <th>original_title</th>\n",
       "      <th>overview</th>\n",
       "      <th>popularity</th>\n",
       "      <th>production_companies</th>\n",
       "      <th>...</th>\n",
       "      <th>runtime</th>\n",
       "      <th>spoken_languages</th>\n",
       "      <th>status</th>\n",
       "      <th>tagline</th>\n",
       "      <th>title</th>\n",
       "      <th>vote_average</th>\n",
       "      <th>vote_count</th>\n",
       "      <th>movie_id</th>\n",
       "      <th>cast</th>\n",
       "      <th>crew</th>\n",
       "    </tr>\n",
       "  </thead>\n",
       "  <tbody>\n",
       "    <tr>\n",
       "      <th>0</th>\n",
       "      <td>237000000</td>\n",
       "      <td>[{\"id\": 28, \"name\": \"Action\"}, {\"id\": 12, \"nam...</td>\n",
       "      <td>http://www.avatarmovie.com/</td>\n",
       "      <td>19995</td>\n",
       "      <td>[{\"id\": 1463, \"name\": \"culture clash\"}, {\"id\":...</td>\n",
       "      <td>en</td>\n",
       "      <td>Avatar</td>\n",
       "      <td>In the 22nd century, a paraplegic Marine is di...</td>\n",
       "      <td>150.437577</td>\n",
       "      <td>[{\"name\": \"Ingenious Film Partners\", \"id\": 289...</td>\n",
       "      <td>...</td>\n",
       "      <td>162.0</td>\n",
       "      <td>[{\"iso_639_1\": \"en\", \"name\": \"English\"}, {\"iso...</td>\n",
       "      <td>Released</td>\n",
       "      <td>Enter the World of Pandora.</td>\n",
       "      <td>Avatar</td>\n",
       "      <td>7.2</td>\n",
       "      <td>11800</td>\n",
       "      <td>19995</td>\n",
       "      <td>[{\"cast_id\": 242, \"character\": \"Jake Sully\", \"...</td>\n",
       "      <td>[{\"credit_id\": \"52fe48009251416c750aca23\", \"de...</td>\n",
       "    </tr>\n",
       "    <tr>\n",
       "      <th>1</th>\n",
       "      <td>300000000</td>\n",
       "      <td>[{\"id\": 12, \"name\": \"Adventure\"}, {\"id\": 14, \"...</td>\n",
       "      <td>http://disney.go.com/disneypictures/pirates/</td>\n",
       "      <td>285</td>\n",
       "      <td>[{\"id\": 270, \"name\": \"ocean\"}, {\"id\": 726, \"na...</td>\n",
       "      <td>en</td>\n",
       "      <td>Pirates of the Caribbean: At World's End</td>\n",
       "      <td>Captain Barbossa, long believed to be dead, ha...</td>\n",
       "      <td>139.082615</td>\n",
       "      <td>[{\"name\": \"Walt Disney Pictures\", \"id\": 2}, {\"...</td>\n",
       "      <td>...</td>\n",
       "      <td>169.0</td>\n",
       "      <td>[{\"iso_639_1\": \"en\", \"name\": \"English\"}]</td>\n",
       "      <td>Released</td>\n",
       "      <td>At the end of the world, the adventure begins.</td>\n",
       "      <td>Pirates of the Caribbean: At World's End</td>\n",
       "      <td>6.9</td>\n",
       "      <td>4500</td>\n",
       "      <td>285</td>\n",
       "      <td>[{\"cast_id\": 4, \"character\": \"Captain Jack Spa...</td>\n",
       "      <td>[{\"credit_id\": \"52fe4232c3a36847f800b579\", \"de...</td>\n",
       "    </tr>\n",
       "    <tr>\n",
       "      <th>2</th>\n",
       "      <td>245000000</td>\n",
       "      <td>[{\"id\": 28, \"name\": \"Action\"}, {\"id\": 12, \"nam...</td>\n",
       "      <td>http://www.sonypictures.com/movies/spectre/</td>\n",
       "      <td>206647</td>\n",
       "      <td>[{\"id\": 470, \"name\": \"spy\"}, {\"id\": 818, \"name...</td>\n",
       "      <td>en</td>\n",
       "      <td>Spectre</td>\n",
       "      <td>A cryptic message from Bond’s past sends him o...</td>\n",
       "      <td>107.376788</td>\n",
       "      <td>[{\"name\": \"Columbia Pictures\", \"id\": 5}, {\"nam...</td>\n",
       "      <td>...</td>\n",
       "      <td>148.0</td>\n",
       "      <td>[{\"iso_639_1\": \"fr\", \"name\": \"Fran\\u00e7ais\"},...</td>\n",
       "      <td>Released</td>\n",
       "      <td>A Plan No One Escapes</td>\n",
       "      <td>Spectre</td>\n",
       "      <td>6.3</td>\n",
       "      <td>4466</td>\n",
       "      <td>206647</td>\n",
       "      <td>[{\"cast_id\": 1, \"character\": \"James Bond\", \"cr...</td>\n",
       "      <td>[{\"credit_id\": \"54805967c3a36829b5002c41\", \"de...</td>\n",
       "    </tr>\n",
       "    <tr>\n",
       "      <th>3</th>\n",
       "      <td>250000000</td>\n",
       "      <td>[{\"id\": 28, \"name\": \"Action\"}, {\"id\": 80, \"nam...</td>\n",
       "      <td>http://www.thedarkknightrises.com/</td>\n",
       "      <td>49026</td>\n",
       "      <td>[{\"id\": 849, \"name\": \"dc comics\"}, {\"id\": 853,...</td>\n",
       "      <td>en</td>\n",
       "      <td>The Dark Knight Rises</td>\n",
       "      <td>Following the death of District Attorney Harve...</td>\n",
       "      <td>112.312950</td>\n",
       "      <td>[{\"name\": \"Legendary Pictures\", \"id\": 923}, {\"...</td>\n",
       "      <td>...</td>\n",
       "      <td>165.0</td>\n",
       "      <td>[{\"iso_639_1\": \"en\", \"name\": \"English\"}]</td>\n",
       "      <td>Released</td>\n",
       "      <td>The Legend Ends</td>\n",
       "      <td>The Dark Knight Rises</td>\n",
       "      <td>7.6</td>\n",
       "      <td>9106</td>\n",
       "      <td>49026</td>\n",
       "      <td>[{\"cast_id\": 2, \"character\": \"Bruce Wayne / Ba...</td>\n",
       "      <td>[{\"credit_id\": \"52fe4781c3a36847f81398c3\", \"de...</td>\n",
       "    </tr>\n",
       "    <tr>\n",
       "      <th>4</th>\n",
       "      <td>260000000</td>\n",
       "      <td>[{\"id\": 28, \"name\": \"Action\"}, {\"id\": 12, \"nam...</td>\n",
       "      <td>http://movies.disney.com/john-carter</td>\n",
       "      <td>49529</td>\n",
       "      <td>[{\"id\": 818, \"name\": \"based on novel\"}, {\"id\":...</td>\n",
       "      <td>en</td>\n",
       "      <td>John Carter</td>\n",
       "      <td>John Carter is a war-weary, former military ca...</td>\n",
       "      <td>43.926995</td>\n",
       "      <td>[{\"name\": \"Walt Disney Pictures\", \"id\": 2}]</td>\n",
       "      <td>...</td>\n",
       "      <td>132.0</td>\n",
       "      <td>[{\"iso_639_1\": \"en\", \"name\": \"English\"}]</td>\n",
       "      <td>Released</td>\n",
       "      <td>Lost in our world, found in another.</td>\n",
       "      <td>John Carter</td>\n",
       "      <td>6.1</td>\n",
       "      <td>2124</td>\n",
       "      <td>49529</td>\n",
       "      <td>[{\"cast_id\": 5, \"character\": \"John Carter\", \"c...</td>\n",
       "      <td>[{\"credit_id\": \"52fe479ac3a36847f813eaa3\", \"de...</td>\n",
       "    </tr>\n",
       "  </tbody>\n",
       "</table>\n",
       "<p>5 rows × 23 columns</p>\n",
       "</div>"
      ],
      "text/plain": [
       "      budget                                             genres  \\\n",
       "0  237000000  [{\"id\": 28, \"name\": \"Action\"}, {\"id\": 12, \"nam...   \n",
       "1  300000000  [{\"id\": 12, \"name\": \"Adventure\"}, {\"id\": 14, \"...   \n",
       "2  245000000  [{\"id\": 28, \"name\": \"Action\"}, {\"id\": 12, \"nam...   \n",
       "3  250000000  [{\"id\": 28, \"name\": \"Action\"}, {\"id\": 80, \"nam...   \n",
       "4  260000000  [{\"id\": 28, \"name\": \"Action\"}, {\"id\": 12, \"nam...   \n",
       "\n",
       "                                       homepage      id  \\\n",
       "0                   http://www.avatarmovie.com/   19995   \n",
       "1  http://disney.go.com/disneypictures/pirates/     285   \n",
       "2   http://www.sonypictures.com/movies/spectre/  206647   \n",
       "3            http://www.thedarkknightrises.com/   49026   \n",
       "4          http://movies.disney.com/john-carter   49529   \n",
       "\n",
       "                                            keywords original_language  \\\n",
       "0  [{\"id\": 1463, \"name\": \"culture clash\"}, {\"id\":...                en   \n",
       "1  [{\"id\": 270, \"name\": \"ocean\"}, {\"id\": 726, \"na...                en   \n",
       "2  [{\"id\": 470, \"name\": \"spy\"}, {\"id\": 818, \"name...                en   \n",
       "3  [{\"id\": 849, \"name\": \"dc comics\"}, {\"id\": 853,...                en   \n",
       "4  [{\"id\": 818, \"name\": \"based on novel\"}, {\"id\":...                en   \n",
       "\n",
       "                             original_title  \\\n",
       "0                                    Avatar   \n",
       "1  Pirates of the Caribbean: At World's End   \n",
       "2                                   Spectre   \n",
       "3                     The Dark Knight Rises   \n",
       "4                               John Carter   \n",
       "\n",
       "                                            overview  popularity  \\\n",
       "0  In the 22nd century, a paraplegic Marine is di...  150.437577   \n",
       "1  Captain Barbossa, long believed to be dead, ha...  139.082615   \n",
       "2  A cryptic message from Bond’s past sends him o...  107.376788   \n",
       "3  Following the death of District Attorney Harve...  112.312950   \n",
       "4  John Carter is a war-weary, former military ca...   43.926995   \n",
       "\n",
       "                                production_companies  ... runtime  \\\n",
       "0  [{\"name\": \"Ingenious Film Partners\", \"id\": 289...  ...   162.0   \n",
       "1  [{\"name\": \"Walt Disney Pictures\", \"id\": 2}, {\"...  ...   169.0   \n",
       "2  [{\"name\": \"Columbia Pictures\", \"id\": 5}, {\"nam...  ...   148.0   \n",
       "3  [{\"name\": \"Legendary Pictures\", \"id\": 923}, {\"...  ...   165.0   \n",
       "4        [{\"name\": \"Walt Disney Pictures\", \"id\": 2}]  ...   132.0   \n",
       "\n",
       "                                    spoken_languages    status  \\\n",
       "0  [{\"iso_639_1\": \"en\", \"name\": \"English\"}, {\"iso...  Released   \n",
       "1           [{\"iso_639_1\": \"en\", \"name\": \"English\"}]  Released   \n",
       "2  [{\"iso_639_1\": \"fr\", \"name\": \"Fran\\u00e7ais\"},...  Released   \n",
       "3           [{\"iso_639_1\": \"en\", \"name\": \"English\"}]  Released   \n",
       "4           [{\"iso_639_1\": \"en\", \"name\": \"English\"}]  Released   \n",
       "\n",
       "                                          tagline  \\\n",
       "0                     Enter the World of Pandora.   \n",
       "1  At the end of the world, the adventure begins.   \n",
       "2                           A Plan No One Escapes   \n",
       "3                                 The Legend Ends   \n",
       "4            Lost in our world, found in another.   \n",
       "\n",
       "                                      title vote_average vote_count movie_id  \\\n",
       "0                                    Avatar          7.2      11800    19995   \n",
       "1  Pirates of the Caribbean: At World's End          6.9       4500      285   \n",
       "2                                   Spectre          6.3       4466   206647   \n",
       "3                     The Dark Knight Rises          7.6       9106    49026   \n",
       "4                               John Carter          6.1       2124    49529   \n",
       "\n",
       "                                                cast  \\\n",
       "0  [{\"cast_id\": 242, \"character\": \"Jake Sully\", \"...   \n",
       "1  [{\"cast_id\": 4, \"character\": \"Captain Jack Spa...   \n",
       "2  [{\"cast_id\": 1, \"character\": \"James Bond\", \"cr...   \n",
       "3  [{\"cast_id\": 2, \"character\": \"Bruce Wayne / Ba...   \n",
       "4  [{\"cast_id\": 5, \"character\": \"John Carter\", \"c...   \n",
       "\n",
       "                                                crew  \n",
       "0  [{\"credit_id\": \"52fe48009251416c750aca23\", \"de...  \n",
       "1  [{\"credit_id\": \"52fe4232c3a36847f800b579\", \"de...  \n",
       "2  [{\"credit_id\": \"54805967c3a36829b5002c41\", \"de...  \n",
       "3  [{\"credit_id\": \"52fe4781c3a36847f81398c3\", \"de...  \n",
       "4  [{\"credit_id\": \"52fe479ac3a36847f813eaa3\", \"de...  \n",
       "\n",
       "[5 rows x 23 columns]"
      ]
     },
     "execution_count": 7,
     "metadata": {},
     "output_type": "execute_result"
    }
   ],
   "source": [
    "movies.head()"
   ]
  },
  {
   "cell_type": "markdown",
   "id": "302375ea-bf2b-4ef8-8f16-4b4278fda2d3",
   "metadata": {},
   "source": [
    "# Dataset Overview"
   ]
  },
  {
   "cell_type": "code",
   "execution_count": 8,
   "id": "d378f9b6-b9ee-4640-8d11-b8030024cf45",
   "metadata": {},
   "outputs": [
    {
     "name": "stdout",
     "output_type": "stream",
     "text": [
      "Number of records: 4809\n",
      " — — — — -\n",
      "Number of features: 23\n",
      " — — — — -\n",
      "<class 'pandas.core.frame.DataFrame'>\n",
      "Int64Index: 4809 entries, 0 to 4808\n",
      "Data columns (total 23 columns):\n",
      " #   Column                Non-Null Count  Dtype  \n",
      "---  ------                --------------  -----  \n",
      " 0   budget                4809 non-null   int64  \n",
      " 1   genres                4809 non-null   object \n",
      " 2   homepage              1713 non-null   object \n",
      " 3   id                    4809 non-null   int64  \n",
      " 4   keywords              4809 non-null   object \n",
      " 5   original_language     4809 non-null   object \n",
      " 6   original_title        4809 non-null   object \n",
      " 7   overview              4806 non-null   object \n",
      " 8   popularity            4809 non-null   float64\n",
      " 9   production_companies  4809 non-null   object \n",
      " 10  production_countries  4809 non-null   object \n",
      " 11  release_date          4808 non-null   object \n",
      " 12  revenue               4809 non-null   int64  \n",
      " 13  runtime               4807 non-null   float64\n",
      " 14  spoken_languages      4809 non-null   object \n",
      " 15  status                4809 non-null   object \n",
      " 16  tagline               3965 non-null   object \n",
      " 17  title                 4809 non-null   object \n",
      " 18  vote_average          4809 non-null   float64\n",
      " 19  vote_count            4809 non-null   int64  \n",
      " 20  movie_id              4809 non-null   int64  \n",
      " 21  cast                  4809 non-null   object \n",
      " 22  crew                  4809 non-null   object \n",
      "dtypes: float64(3), int64(5), object(15)\n",
      "memory usage: 901.7+ KB\n",
      "None\n"
     ]
    }
   ],
   "source": [
    "print('Number of records:',movies.shape[0])\n",
    "print(' — — — — -')\n",
    "print('Number of features:', movies.shape[1])\n",
    "print(' — — — — -')\n",
    "print(movies.info())"
   ]
  },
  {
   "cell_type": "code",
   "execution_count": 9,
   "id": "2856bf2f-eac3-4152-9fe3-54e980b5fca0",
   "metadata": {},
   "outputs": [
    {
     "data": {
      "text/html": [
       "<div>\n",
       "<style scoped>\n",
       "    .dataframe tbody tr th:only-of-type {\n",
       "        vertical-align: middle;\n",
       "    }\n",
       "\n",
       "    .dataframe tbody tr th {\n",
       "        vertical-align: top;\n",
       "    }\n",
       "\n",
       "    .dataframe thead th {\n",
       "        text-align: right;\n",
       "    }\n",
       "</style>\n",
       "<table border=\"1\" class=\"dataframe\">\n",
       "  <thead>\n",
       "    <tr style=\"text-align: right;\">\n",
       "      <th></th>\n",
       "      <th>count</th>\n",
       "      <th>mean</th>\n",
       "      <th>std</th>\n",
       "      <th>min</th>\n",
       "      <th>25%</th>\n",
       "      <th>50%</th>\n",
       "      <th>75%</th>\n",
       "      <th>max</th>\n",
       "    </tr>\n",
       "  </thead>\n",
       "  <tbody>\n",
       "    <tr>\n",
       "      <th>budget</th>\n",
       "      <td>4809.0</td>\n",
       "      <td>2.902780e+07</td>\n",
       "      <td>4.070473e+07</td>\n",
       "      <td>0.0</td>\n",
       "      <td>780000.00000</td>\n",
       "      <td>1.500000e+07</td>\n",
       "      <td>4.000000e+07</td>\n",
       "      <td>3.800000e+08</td>\n",
       "    </tr>\n",
       "    <tr>\n",
       "      <th>id</th>\n",
       "      <td>4809.0</td>\n",
       "      <td>5.712057e+04</td>\n",
       "      <td>8.865337e+04</td>\n",
       "      <td>5.0</td>\n",
       "      <td>9012.00000</td>\n",
       "      <td>1.462400e+04</td>\n",
       "      <td>5.859500e+04</td>\n",
       "      <td>4.594880e+05</td>\n",
       "    </tr>\n",
       "    <tr>\n",
       "      <th>popularity</th>\n",
       "      <td>4809.0</td>\n",
       "      <td>2.149166e+01</td>\n",
       "      <td>3.180337e+01</td>\n",
       "      <td>0.0</td>\n",
       "      <td>4.66723</td>\n",
       "      <td>1.292159e+01</td>\n",
       "      <td>2.835053e+01</td>\n",
       "      <td>8.755813e+02</td>\n",
       "    </tr>\n",
       "    <tr>\n",
       "      <th>revenue</th>\n",
       "      <td>4809.0</td>\n",
       "      <td>8.227511e+07</td>\n",
       "      <td>1.628379e+08</td>\n",
       "      <td>0.0</td>\n",
       "      <td>0.00000</td>\n",
       "      <td>1.917000e+07</td>\n",
       "      <td>9.291317e+07</td>\n",
       "      <td>2.787965e+09</td>\n",
       "    </tr>\n",
       "    <tr>\n",
       "      <th>runtime</th>\n",
       "      <td>4807.0</td>\n",
       "      <td>1.068823e+02</td>\n",
       "      <td>2.260254e+01</td>\n",
       "      <td>0.0</td>\n",
       "      <td>94.00000</td>\n",
       "      <td>1.030000e+02</td>\n",
       "      <td>1.180000e+02</td>\n",
       "      <td>3.380000e+02</td>\n",
       "    </tr>\n",
       "    <tr>\n",
       "      <th>vote_average</th>\n",
       "      <td>4809.0</td>\n",
       "      <td>6.092514e+00</td>\n",
       "      <td>1.193989e+00</td>\n",
       "      <td>0.0</td>\n",
       "      <td>5.60000</td>\n",
       "      <td>6.200000e+00</td>\n",
       "      <td>6.800000e+00</td>\n",
       "      <td>1.000000e+01</td>\n",
       "    </tr>\n",
       "    <tr>\n",
       "      <th>vote_count</th>\n",
       "      <td>4809.0</td>\n",
       "      <td>6.903317e+02</td>\n",
       "      <td>1.234187e+03</td>\n",
       "      <td>0.0</td>\n",
       "      <td>54.00000</td>\n",
       "      <td>2.350000e+02</td>\n",
       "      <td>7.370000e+02</td>\n",
       "      <td>1.375200e+04</td>\n",
       "    </tr>\n",
       "    <tr>\n",
       "      <th>movie_id</th>\n",
       "      <td>4809.0</td>\n",
       "      <td>5.712057e+04</td>\n",
       "      <td>8.865337e+04</td>\n",
       "      <td>5.0</td>\n",
       "      <td>9012.00000</td>\n",
       "      <td>1.462400e+04</td>\n",
       "      <td>5.859500e+04</td>\n",
       "      <td>4.594880e+05</td>\n",
       "    </tr>\n",
       "  </tbody>\n",
       "</table>\n",
       "</div>"
      ],
      "text/plain": [
       "               count          mean           std  min           25%  \\\n",
       "budget        4809.0  2.902780e+07  4.070473e+07  0.0  780000.00000   \n",
       "id            4809.0  5.712057e+04  8.865337e+04  5.0    9012.00000   \n",
       "popularity    4809.0  2.149166e+01  3.180337e+01  0.0       4.66723   \n",
       "revenue       4809.0  8.227511e+07  1.628379e+08  0.0       0.00000   \n",
       "runtime       4807.0  1.068823e+02  2.260254e+01  0.0      94.00000   \n",
       "vote_average  4809.0  6.092514e+00  1.193989e+00  0.0       5.60000   \n",
       "vote_count    4809.0  6.903317e+02  1.234187e+03  0.0      54.00000   \n",
       "movie_id      4809.0  5.712057e+04  8.865337e+04  5.0    9012.00000   \n",
       "\n",
       "                       50%           75%           max  \n",
       "budget        1.500000e+07  4.000000e+07  3.800000e+08  \n",
       "id            1.462400e+04  5.859500e+04  4.594880e+05  \n",
       "popularity    1.292159e+01  2.835053e+01  8.755813e+02  \n",
       "revenue       1.917000e+07  9.291317e+07  2.787965e+09  \n",
       "runtime       1.030000e+02  1.180000e+02  3.380000e+02  \n",
       "vote_average  6.200000e+00  6.800000e+00  1.000000e+01  \n",
       "vote_count    2.350000e+02  7.370000e+02  1.375200e+04  \n",
       "movie_id      1.462400e+04  5.859500e+04  4.594880e+05  "
      ]
     },
     "execution_count": 9,
     "metadata": {},
     "output_type": "execute_result"
    }
   ],
   "source": [
    "movies.describe().transpose()"
   ]
  },
  {
   "cell_type": "markdown",
   "id": "1b113d76-6ced-4e50-87e3-56c21bd1b2dd",
   "metadata": {},
   "source": [
    "# Truncated Dataframe"
   ]
  },
  {
   "cell_type": "markdown",
   "id": "7f12cf6e-2a3c-41a7-a6d9-d2d244c639ea",
   "metadata": {},
   "source": [
    "A content-based recommendation system like the one we're building requires features that will help us create tags to compare films with.\n",
    "Eg: movie budget is not important for a recommender system, because it is not a given that if a person likes Interstellar, that they will also like other high budget movies like Marvel movies.\n",
    "\n",
    "**COLUMNS TO BE KEPT** <br>\n",
    "*title* <br>\n",
    "*overview* - for content based similarity<br>\n",
    "*genre* <br>\n",
    "*keywords* - basically tags to describe and recommend similar movies, this will be useful in creating our system. <br>\n",
    "*production_companies* - some companies stick to producing certain types of movies, like Pixar or Marvel Studios. <br>\n",
    "*cast* - we often recommend movies on the basis of actors<br>\n",
    "*crew* - we often recommend movies based on directors, among other crew members <br>"
   ]
  },
  {
   "cell_type": "code",
   "execution_count": 10,
   "id": "fd802a0b-679f-45fa-8cb0-24fe478e29e9",
   "metadata": {},
   "outputs": [
    {
     "data": {
      "text/html": [
       "<div>\n",
       "<style scoped>\n",
       "    .dataframe tbody tr th:only-of-type {\n",
       "        vertical-align: middle;\n",
       "    }\n",
       "\n",
       "    .dataframe tbody tr th {\n",
       "        vertical-align: top;\n",
       "    }\n",
       "\n",
       "    .dataframe thead th {\n",
       "        text-align: right;\n",
       "    }\n",
       "</style>\n",
       "<table border=\"1\" class=\"dataframe\">\n",
       "  <thead>\n",
       "    <tr style=\"text-align: right;\">\n",
       "      <th></th>\n",
       "      <th>movie_id</th>\n",
       "      <th>title</th>\n",
       "      <th>overview</th>\n",
       "      <th>genres</th>\n",
       "      <th>keywords</th>\n",
       "      <th>production_companies</th>\n",
       "      <th>cast</th>\n",
       "      <th>crew</th>\n",
       "    </tr>\n",
       "  </thead>\n",
       "  <tbody>\n",
       "    <tr>\n",
       "      <th>0</th>\n",
       "      <td>19995</td>\n",
       "      <td>Avatar</td>\n",
       "      <td>In the 22nd century, a paraplegic Marine is di...</td>\n",
       "      <td>[{\"id\": 28, \"name\": \"Action\"}, {\"id\": 12, \"nam...</td>\n",
       "      <td>[{\"id\": 1463, \"name\": \"culture clash\"}, {\"id\":...</td>\n",
       "      <td>[{\"name\": \"Ingenious Film Partners\", \"id\": 289...</td>\n",
       "      <td>[{\"cast_id\": 242, \"character\": \"Jake Sully\", \"...</td>\n",
       "      <td>[{\"credit_id\": \"52fe48009251416c750aca23\", \"de...</td>\n",
       "    </tr>\n",
       "    <tr>\n",
       "      <th>1</th>\n",
       "      <td>285</td>\n",
       "      <td>Pirates of the Caribbean: At World's End</td>\n",
       "      <td>Captain Barbossa, long believed to be dead, ha...</td>\n",
       "      <td>[{\"id\": 12, \"name\": \"Adventure\"}, {\"id\": 14, \"...</td>\n",
       "      <td>[{\"id\": 270, \"name\": \"ocean\"}, {\"id\": 726, \"na...</td>\n",
       "      <td>[{\"name\": \"Walt Disney Pictures\", \"id\": 2}, {\"...</td>\n",
       "      <td>[{\"cast_id\": 4, \"character\": \"Captain Jack Spa...</td>\n",
       "      <td>[{\"credit_id\": \"52fe4232c3a36847f800b579\", \"de...</td>\n",
       "    </tr>\n",
       "    <tr>\n",
       "      <th>2</th>\n",
       "      <td>206647</td>\n",
       "      <td>Spectre</td>\n",
       "      <td>A cryptic message from Bond’s past sends him o...</td>\n",
       "      <td>[{\"id\": 28, \"name\": \"Action\"}, {\"id\": 12, \"nam...</td>\n",
       "      <td>[{\"id\": 470, \"name\": \"spy\"}, {\"id\": 818, \"name...</td>\n",
       "      <td>[{\"name\": \"Columbia Pictures\", \"id\": 5}, {\"nam...</td>\n",
       "      <td>[{\"cast_id\": 1, \"character\": \"James Bond\", \"cr...</td>\n",
       "      <td>[{\"credit_id\": \"54805967c3a36829b5002c41\", \"de...</td>\n",
       "    </tr>\n",
       "    <tr>\n",
       "      <th>3</th>\n",
       "      <td>49026</td>\n",
       "      <td>The Dark Knight Rises</td>\n",
       "      <td>Following the death of District Attorney Harve...</td>\n",
       "      <td>[{\"id\": 28, \"name\": \"Action\"}, {\"id\": 80, \"nam...</td>\n",
       "      <td>[{\"id\": 849, \"name\": \"dc comics\"}, {\"id\": 853,...</td>\n",
       "      <td>[{\"name\": \"Legendary Pictures\", \"id\": 923}, {\"...</td>\n",
       "      <td>[{\"cast_id\": 2, \"character\": \"Bruce Wayne / Ba...</td>\n",
       "      <td>[{\"credit_id\": \"52fe4781c3a36847f81398c3\", \"de...</td>\n",
       "    </tr>\n",
       "    <tr>\n",
       "      <th>4</th>\n",
       "      <td>49529</td>\n",
       "      <td>John Carter</td>\n",
       "      <td>John Carter is a war-weary, former military ca...</td>\n",
       "      <td>[{\"id\": 28, \"name\": \"Action\"}, {\"id\": 12, \"nam...</td>\n",
       "      <td>[{\"id\": 818, \"name\": \"based on novel\"}, {\"id\":...</td>\n",
       "      <td>[{\"name\": \"Walt Disney Pictures\", \"id\": 2}]</td>\n",
       "      <td>[{\"cast_id\": 5, \"character\": \"John Carter\", \"c...</td>\n",
       "      <td>[{\"credit_id\": \"52fe479ac3a36847f813eaa3\", \"de...</td>\n",
       "    </tr>\n",
       "  </tbody>\n",
       "</table>\n",
       "</div>"
      ],
      "text/plain": [
       "   movie_id                                     title  \\\n",
       "0     19995                                    Avatar   \n",
       "1       285  Pirates of the Caribbean: At World's End   \n",
       "2    206647                                   Spectre   \n",
       "3     49026                     The Dark Knight Rises   \n",
       "4     49529                               John Carter   \n",
       "\n",
       "                                            overview  \\\n",
       "0  In the 22nd century, a paraplegic Marine is di...   \n",
       "1  Captain Barbossa, long believed to be dead, ha...   \n",
       "2  A cryptic message from Bond’s past sends him o...   \n",
       "3  Following the death of District Attorney Harve...   \n",
       "4  John Carter is a war-weary, former military ca...   \n",
       "\n",
       "                                              genres  \\\n",
       "0  [{\"id\": 28, \"name\": \"Action\"}, {\"id\": 12, \"nam...   \n",
       "1  [{\"id\": 12, \"name\": \"Adventure\"}, {\"id\": 14, \"...   \n",
       "2  [{\"id\": 28, \"name\": \"Action\"}, {\"id\": 12, \"nam...   \n",
       "3  [{\"id\": 28, \"name\": \"Action\"}, {\"id\": 80, \"nam...   \n",
       "4  [{\"id\": 28, \"name\": \"Action\"}, {\"id\": 12, \"nam...   \n",
       "\n",
       "                                            keywords  \\\n",
       "0  [{\"id\": 1463, \"name\": \"culture clash\"}, {\"id\":...   \n",
       "1  [{\"id\": 270, \"name\": \"ocean\"}, {\"id\": 726, \"na...   \n",
       "2  [{\"id\": 470, \"name\": \"spy\"}, {\"id\": 818, \"name...   \n",
       "3  [{\"id\": 849, \"name\": \"dc comics\"}, {\"id\": 853,...   \n",
       "4  [{\"id\": 818, \"name\": \"based on novel\"}, {\"id\":...   \n",
       "\n",
       "                                production_companies  \\\n",
       "0  [{\"name\": \"Ingenious Film Partners\", \"id\": 289...   \n",
       "1  [{\"name\": \"Walt Disney Pictures\", \"id\": 2}, {\"...   \n",
       "2  [{\"name\": \"Columbia Pictures\", \"id\": 5}, {\"nam...   \n",
       "3  [{\"name\": \"Legendary Pictures\", \"id\": 923}, {\"...   \n",
       "4        [{\"name\": \"Walt Disney Pictures\", \"id\": 2}]   \n",
       "\n",
       "                                                cast  \\\n",
       "0  [{\"cast_id\": 242, \"character\": \"Jake Sully\", \"...   \n",
       "1  [{\"cast_id\": 4, \"character\": \"Captain Jack Spa...   \n",
       "2  [{\"cast_id\": 1, \"character\": \"James Bond\", \"cr...   \n",
       "3  [{\"cast_id\": 2, \"character\": \"Bruce Wayne / Ba...   \n",
       "4  [{\"cast_id\": 5, \"character\": \"John Carter\", \"c...   \n",
       "\n",
       "                                                crew  \n",
       "0  [{\"credit_id\": \"52fe48009251416c750aca23\", \"de...  \n",
       "1  [{\"credit_id\": \"52fe4232c3a36847f800b579\", \"de...  \n",
       "2  [{\"credit_id\": \"54805967c3a36829b5002c41\", \"de...  \n",
       "3  [{\"credit_id\": \"52fe4781c3a36847f81398c3\", \"de...  \n",
       "4  [{\"credit_id\": \"52fe479ac3a36847f813eaa3\", \"de...  "
      ]
     },
     "execution_count": 10,
     "metadata": {},
     "output_type": "execute_result"
    }
   ],
   "source": [
    "movies = movies[['movie_id', 'title', 'overview','genres', 'keywords','production_companies', 'cast','crew']]\n",
    "movies.head()"
   ]
  },
  {
   "cell_type": "code",
   "execution_count": 11,
   "id": "cec6ef31-c5ea-463a-b975-df2fb1564ba2",
   "metadata": {},
   "outputs": [
    {
     "data": {
      "text/plain": [
       "(4809, 8)"
      ]
     },
     "execution_count": 11,
     "metadata": {},
     "output_type": "execute_result"
    }
   ],
   "source": [
    "movies.shape"
   ]
  },
  {
   "cell_type": "markdown",
   "id": "a1e6bd1b-eacf-4fb4-ab5f-5c10f22475bf",
   "metadata": {},
   "source": [
    "# Preprocessing our data"
   ]
  },
  {
   "cell_type": "markdown",
   "id": "5bfcc53a-5411-41bb-b7f2-637533a283cd",
   "metadata": {},
   "source": [
    "Now we will preprocess our data by checking for null values as well as duplicated variables. We can also see the from the 'genres' column through the 'crew' column, the names of those features, which we need for creating tags, are tucked away inside lists of dictionaries. We will parse these columns to retrieve the names we are looking for. "
   ]
  },
  {
   "cell_type": "code",
   "execution_count": 12,
   "id": "4022544c-b757-4f8d-8c48-7a4bc6051247",
   "metadata": {},
   "outputs": [
    {
     "data": {
      "text/plain": [
       "movie_id                0\n",
       "title                   0\n",
       "overview                3\n",
       "genres                  0\n",
       "keywords                0\n",
       "production_companies    0\n",
       "cast                    0\n",
       "crew                    0\n",
       "dtype: int64"
      ]
     },
     "execution_count": 12,
     "metadata": {},
     "output_type": "execute_result"
    }
   ],
   "source": [
    "movies.isnull().sum()"
   ]
  },
  {
   "cell_type": "code",
   "execution_count": 13,
   "id": "41018a36-055f-4520-ae8e-526475363174",
   "metadata": {},
   "outputs": [],
   "source": [
    "movies.dropna(inplace=True)"
   ]
  },
  {
   "cell_type": "code",
   "execution_count": 14,
   "id": "19bb9cbd-b749-4980-b88f-b0bfc8ffefa7",
   "metadata": {},
   "outputs": [
    {
     "data": {
      "text/plain": [
       "0"
      ]
     },
     "execution_count": 14,
     "metadata": {},
     "output_type": "execute_result"
    }
   ],
   "source": [
    "movies.duplicated().sum()"
   ]
  },
  {
   "cell_type": "code",
   "execution_count": 15,
   "id": "abc04330-2b2e-4c6f-90ff-f8678c5f66ac",
   "metadata": {},
   "outputs": [
    {
     "name": "stdout",
     "output_type": "stream",
     "text": [
      "<class 'pandas.core.frame.DataFrame'>\n",
      "Int64Index: 4806 entries, 0 to 4808\n",
      "Data columns (total 8 columns):\n",
      " #   Column                Non-Null Count  Dtype \n",
      "---  ------                --------------  ----- \n",
      " 0   movie_id              4806 non-null   int64 \n",
      " 1   title                 4806 non-null   object\n",
      " 2   overview              4806 non-null   object\n",
      " 3   genres                4806 non-null   object\n",
      " 4   keywords              4806 non-null   object\n",
      " 5   production_companies  4806 non-null   object\n",
      " 6   cast                  4806 non-null   object\n",
      " 7   crew                  4806 non-null   object\n",
      "dtypes: int64(1), object(7)\n",
      "memory usage: 337.9+ KB\n"
     ]
    }
   ],
   "source": [
    "movies.info()"
   ]
  },
  {
   "cell_type": "markdown",
   "id": "e0e888ea-26a4-45b2-a076-5c9a8724e96f",
   "metadata": {},
   "source": [
    "## Column Conversion"
   ]
  },
  {
   "cell_type": "markdown",
   "id": "6e0f0643-b603-430a-ba7f-308cfc286c3f",
   "metadata": {},
   "source": [
    "We will use the literal_eval function from the ast (Abstract Syntax Tree) library to create functions to parse through the necessary columns in order to retrieve the necessary attributes for our system. <br><br> \n",
    "> The **ast library** provides a way to parse and analyze the code written in Python. It can be used to transform code, check for errors, or extract information about the code.<br><br>\n",
    "> The **literal_eval function** is a function that evaluates a string containing a Python literal (e.g., a string, tuple, list, dictionary, number, or boolean value) and returns the corresponding Python object."
   ]
  },
  {
   "cell_type": "markdown",
   "id": "d067207d-6307-4f1b-b82c-70c88ebac257",
   "metadata": {},
   "source": [
    "### Genres and Keywords"
   ]
  },
  {
   "cell_type": "markdown",
   "id": "4bfddfd6-e1c4-465e-aea2-df841ac4140d",
   "metadata": {},
   "source": [
    "An example of what genres look like ↓"
   ]
  },
  {
   "cell_type": "code",
   "execution_count": 16,
   "id": "c064c4bd-8bff-4903-a7c9-7ed46011d0e8",
   "metadata": {},
   "outputs": [
    {
     "data": {
      "text/plain": [
       "'[{\"id\": 28, \"name\": \"Action\"}, {\"id\": 12, \"name\": \"Adventure\"}, {\"id\": 14, \"name\": \"Fantasy\"}, {\"id\": 878, \"name\": \"Science Fiction\"}]'"
      ]
     },
     "execution_count": 16,
     "metadata": {},
     "output_type": "execute_result"
    }
   ],
   "source": [
    "movies['genres'][0]"
   ]
  },
  {
   "cell_type": "markdown",
   "id": "d617298d-fa07-4726-baa1-e8603c193c8b",
   "metadata": {},
   "source": [
    "Now to get the genre names and keywords ... "
   ]
  },
  {
   "cell_type": "code",
   "execution_count": 17,
   "id": "82c9d6cb-3ed5-41d0-bc18-557467fcb196",
   "metadata": {},
   "outputs": [],
   "source": [
    "def convert(obj) :\n",
    "    li = []\n",
    "    for i in ast.literal_eval(obj) :\n",
    "        li.append(i['name'])\n",
    "    return li"
   ]
  },
  {
   "cell_type": "code",
   "execution_count": 18,
   "id": "2034d71f-ba0c-42a7-a163-f4a18ce96854",
   "metadata": {},
   "outputs": [
    {
     "data": {
      "text/plain": [
       "0    [Action, Adventure, Fantasy, Science Fiction]\n",
       "1                     [Adventure, Fantasy, Action]\n",
       "2                       [Action, Adventure, Crime]\n",
       "3                 [Action, Crime, Drama, Thriller]\n",
       "4             [Action, Adventure, Science Fiction]\n",
       "5                     [Fantasy, Action, Adventure]\n",
       "Name: genres, dtype: object"
      ]
     },
     "execution_count": 18,
     "metadata": {},
     "output_type": "execute_result"
    }
   ],
   "source": [
    "movies['genres'] = movies['genres'].apply(convert)\n",
    "movies['genres'][0:6]"
   ]
  },
  {
   "cell_type": "code",
   "execution_count": 19,
   "id": "ab8fa742-3d41-4c8c-94b9-997081f12992",
   "metadata": {},
   "outputs": [
    {
     "data": {
      "text/plain": [
       "0    [culture clash, future, space war, space colon...\n",
       "1    [ocean, drug abuse, exotic island, east india ...\n",
       "2    [spy, based on novel, secret agent, sequel, mi...\n",
       "3    [dc comics, crime fighter, terrorist, secret i...\n",
       "4    [based on novel, mars, medallion, space travel...\n",
       "5    [dual identity, amnesia, sandstorm, love of on...\n",
       "Name: keywords, dtype: object"
      ]
     },
     "execution_count": 19,
     "metadata": {},
     "output_type": "execute_result"
    }
   ],
   "source": [
    "movies['keywords'] = movies['keywords'].apply(convert)\n",
    "movies['keywords'][0:6]"
   ]
  },
  {
   "cell_type": "markdown",
   "id": "f0de90e4-0fef-4ac3-aeec-4edd7c4419ed",
   "metadata": {},
   "source": [
    "Here we can see that our dataframe is starting to look a little better ↓"
   ]
  },
  {
   "cell_type": "code",
   "execution_count": 20,
   "id": "aa77312a-3dc8-46e5-919f-4a733222907d",
   "metadata": {},
   "outputs": [
    {
     "data": {
      "text/html": [
       "<div>\n",
       "<style scoped>\n",
       "    .dataframe tbody tr th:only-of-type {\n",
       "        vertical-align: middle;\n",
       "    }\n",
       "\n",
       "    .dataframe tbody tr th {\n",
       "        vertical-align: top;\n",
       "    }\n",
       "\n",
       "    .dataframe thead th {\n",
       "        text-align: right;\n",
       "    }\n",
       "</style>\n",
       "<table border=\"1\" class=\"dataframe\">\n",
       "  <thead>\n",
       "    <tr style=\"text-align: right;\">\n",
       "      <th></th>\n",
       "      <th>movie_id</th>\n",
       "      <th>title</th>\n",
       "      <th>overview</th>\n",
       "      <th>genres</th>\n",
       "      <th>keywords</th>\n",
       "      <th>production_companies</th>\n",
       "      <th>cast</th>\n",
       "      <th>crew</th>\n",
       "    </tr>\n",
       "  </thead>\n",
       "  <tbody>\n",
       "    <tr>\n",
       "      <th>0</th>\n",
       "      <td>19995</td>\n",
       "      <td>Avatar</td>\n",
       "      <td>In the 22nd century, a paraplegic Marine is di...</td>\n",
       "      <td>[Action, Adventure, Fantasy, Science Fiction]</td>\n",
       "      <td>[culture clash, future, space war, space colon...</td>\n",
       "      <td>[{\"name\": \"Ingenious Film Partners\", \"id\": 289...</td>\n",
       "      <td>[{\"cast_id\": 242, \"character\": \"Jake Sully\", \"...</td>\n",
       "      <td>[{\"credit_id\": \"52fe48009251416c750aca23\", \"de...</td>\n",
       "    </tr>\n",
       "    <tr>\n",
       "      <th>1</th>\n",
       "      <td>285</td>\n",
       "      <td>Pirates of the Caribbean: At World's End</td>\n",
       "      <td>Captain Barbossa, long believed to be dead, ha...</td>\n",
       "      <td>[Adventure, Fantasy, Action]</td>\n",
       "      <td>[ocean, drug abuse, exotic island, east india ...</td>\n",
       "      <td>[{\"name\": \"Walt Disney Pictures\", \"id\": 2}, {\"...</td>\n",
       "      <td>[{\"cast_id\": 4, \"character\": \"Captain Jack Spa...</td>\n",
       "      <td>[{\"credit_id\": \"52fe4232c3a36847f800b579\", \"de...</td>\n",
       "    </tr>\n",
       "    <tr>\n",
       "      <th>2</th>\n",
       "      <td>206647</td>\n",
       "      <td>Spectre</td>\n",
       "      <td>A cryptic message from Bond’s past sends him o...</td>\n",
       "      <td>[Action, Adventure, Crime]</td>\n",
       "      <td>[spy, based on novel, secret agent, sequel, mi...</td>\n",
       "      <td>[{\"name\": \"Columbia Pictures\", \"id\": 5}, {\"nam...</td>\n",
       "      <td>[{\"cast_id\": 1, \"character\": \"James Bond\", \"cr...</td>\n",
       "      <td>[{\"credit_id\": \"54805967c3a36829b5002c41\", \"de...</td>\n",
       "    </tr>\n",
       "    <tr>\n",
       "      <th>3</th>\n",
       "      <td>49026</td>\n",
       "      <td>The Dark Knight Rises</td>\n",
       "      <td>Following the death of District Attorney Harve...</td>\n",
       "      <td>[Action, Crime, Drama, Thriller]</td>\n",
       "      <td>[dc comics, crime fighter, terrorist, secret i...</td>\n",
       "      <td>[{\"name\": \"Legendary Pictures\", \"id\": 923}, {\"...</td>\n",
       "      <td>[{\"cast_id\": 2, \"character\": \"Bruce Wayne / Ba...</td>\n",
       "      <td>[{\"credit_id\": \"52fe4781c3a36847f81398c3\", \"de...</td>\n",
       "    </tr>\n",
       "    <tr>\n",
       "      <th>4</th>\n",
       "      <td>49529</td>\n",
       "      <td>John Carter</td>\n",
       "      <td>John Carter is a war-weary, former military ca...</td>\n",
       "      <td>[Action, Adventure, Science Fiction]</td>\n",
       "      <td>[based on novel, mars, medallion, space travel...</td>\n",
       "      <td>[{\"name\": \"Walt Disney Pictures\", \"id\": 2}]</td>\n",
       "      <td>[{\"cast_id\": 5, \"character\": \"John Carter\", \"c...</td>\n",
       "      <td>[{\"credit_id\": \"52fe479ac3a36847f813eaa3\", \"de...</td>\n",
       "    </tr>\n",
       "  </tbody>\n",
       "</table>\n",
       "</div>"
      ],
      "text/plain": [
       "   movie_id                                     title  \\\n",
       "0     19995                                    Avatar   \n",
       "1       285  Pirates of the Caribbean: At World's End   \n",
       "2    206647                                   Spectre   \n",
       "3     49026                     The Dark Knight Rises   \n",
       "4     49529                               John Carter   \n",
       "\n",
       "                                            overview  \\\n",
       "0  In the 22nd century, a paraplegic Marine is di...   \n",
       "1  Captain Barbossa, long believed to be dead, ha...   \n",
       "2  A cryptic message from Bond’s past sends him o...   \n",
       "3  Following the death of District Attorney Harve...   \n",
       "4  John Carter is a war-weary, former military ca...   \n",
       "\n",
       "                                          genres  \\\n",
       "0  [Action, Adventure, Fantasy, Science Fiction]   \n",
       "1                   [Adventure, Fantasy, Action]   \n",
       "2                     [Action, Adventure, Crime]   \n",
       "3               [Action, Crime, Drama, Thriller]   \n",
       "4           [Action, Adventure, Science Fiction]   \n",
       "\n",
       "                                            keywords  \\\n",
       "0  [culture clash, future, space war, space colon...   \n",
       "1  [ocean, drug abuse, exotic island, east india ...   \n",
       "2  [spy, based on novel, secret agent, sequel, mi...   \n",
       "3  [dc comics, crime fighter, terrorist, secret i...   \n",
       "4  [based on novel, mars, medallion, space travel...   \n",
       "\n",
       "                                production_companies  \\\n",
       "0  [{\"name\": \"Ingenious Film Partners\", \"id\": 289...   \n",
       "1  [{\"name\": \"Walt Disney Pictures\", \"id\": 2}, {\"...   \n",
       "2  [{\"name\": \"Columbia Pictures\", \"id\": 5}, {\"nam...   \n",
       "3  [{\"name\": \"Legendary Pictures\", \"id\": 923}, {\"...   \n",
       "4        [{\"name\": \"Walt Disney Pictures\", \"id\": 2}]   \n",
       "\n",
       "                                                cast  \\\n",
       "0  [{\"cast_id\": 242, \"character\": \"Jake Sully\", \"...   \n",
       "1  [{\"cast_id\": 4, \"character\": \"Captain Jack Spa...   \n",
       "2  [{\"cast_id\": 1, \"character\": \"James Bond\", \"cr...   \n",
       "3  [{\"cast_id\": 2, \"character\": \"Bruce Wayne / Ba...   \n",
       "4  [{\"cast_id\": 5, \"character\": \"John Carter\", \"c...   \n",
       "\n",
       "                                                crew  \n",
       "0  [{\"credit_id\": \"52fe48009251416c750aca23\", \"de...  \n",
       "1  [{\"credit_id\": \"52fe4232c3a36847f800b579\", \"de...  \n",
       "2  [{\"credit_id\": \"54805967c3a36829b5002c41\", \"de...  \n",
       "3  [{\"credit_id\": \"52fe4781c3a36847f81398c3\", \"de...  \n",
       "4  [{\"credit_id\": \"52fe479ac3a36847f813eaa3\", \"de...  "
      ]
     },
     "execution_count": 20,
     "metadata": {},
     "output_type": "execute_result"
    }
   ],
   "source": [
    "movies.head()"
   ]
  },
  {
   "cell_type": "markdown",
   "id": "06c0e49d-0a46-4a85-9e05-36aef3765816",
   "metadata": {},
   "source": [
    "### Production Companies"
   ]
  },
  {
   "cell_type": "code",
   "execution_count": 21,
   "id": "cfa18253-8b8d-4825-b2e1-b9cddf8c6752",
   "metadata": {},
   "outputs": [
    {
     "data": {
      "text/plain": [
       "'[{\"name\": \"Ingenious Film Partners\", \"id\": 289}, {\"name\": \"Twentieth Century Fox Film Corporation\", \"id\": 306}, {\"name\": \"Dune Entertainment\", \"id\": 444}, {\"name\": \"Lightstorm Entertainment\", \"id\": 574}]'"
      ]
     },
     "execution_count": 21,
     "metadata": {},
     "output_type": "execute_result"
    }
   ],
   "source": [
    "movies['production_companies'][0]"
   ]
  },
  {
   "cell_type": "code",
   "execution_count": 22,
   "id": "842f5f34-2827-45af-b26e-97580ecfe337",
   "metadata": {},
   "outputs": [],
   "source": [
    "def convert_prod(obj) : \n",
    "    li = []\n",
    "    counter = 0 \n",
    "    for i in ast.literal_eval(obj) :\n",
    "        if counter < 4 : \n",
    "            li.append(i['name'])\n",
    "            counter += 1\n",
    "    return li"
   ]
  },
  {
   "cell_type": "code",
   "execution_count": 23,
   "id": "85ea798a-a743-4bb0-ad2f-f147482dd526",
   "metadata": {},
   "outputs": [
    {
     "data": {
      "text/plain": [
       "0    [Ingenious Film Partners, Twentieth Century Fo...\n",
       "1    [Walt Disney Pictures, Jerry Bruckheimer Films...\n",
       "2                     [Columbia Pictures, Danjaq, B24]\n",
       "3    [Legendary Pictures, Warner Bros., DC Entertai...\n",
       "4                               [Walt Disney Pictures]\n",
       "5    [Columbia Pictures, Laura Ziskin Productions, ...\n",
       "Name: production_companies, dtype: object"
      ]
     },
     "execution_count": 23,
     "metadata": {},
     "output_type": "execute_result"
    }
   ],
   "source": [
    "movies['production_companies'] = movies['production_companies'].apply(convert_prod)\n",
    "movies['production_companies'][0:6]"
   ]
  },
  {
   "cell_type": "markdown",
   "id": "897f2a31-4d43-479a-b236-76f076dc6506",
   "metadata": {},
   "source": [
    "### Cast "
   ]
  },
  {
   "cell_type": "code",
   "execution_count": 24,
   "id": "0a00d0ec-2bb5-40ac-8707-c2c8c985b552",
   "metadata": {},
   "outputs": [
    {
     "data": {
      "text/plain": [
       "'[{\"cast_id\": 242, \"character\": \"Jake Sully\", \"credit_id\": \"5602a8a7c3a3685532001c9a\", \"gender\": 2, \"id\": 65731, \"name\": \"Sam Worthington\", \"order\": 0}, {\"cast_id\": 3, \"character\": \"Neytiri\", \"credit_id\": \"52fe48009251416c750ac9cb\", \"gender\": 1, \"id\": 8691, \"name\": \"Zoe Saldana\", \"order\": 1}, {\"cast_id\": 25, \"character\": \"Dr. Grace Augustine\", \"credit_id\": \"52fe48009251416c750aca39\", \"gender\": 1, \"id\": 10205, \"name\": \"Sigourney Weaver\", \"order\": 2}, {\"cast_id\": 4, \"character\": \"Col. Quaritch\", \"c'"
      ]
     },
     "execution_count": 24,
     "metadata": {},
     "output_type": "execute_result"
    }
   ],
   "source": [
    "movies['cast'][0][:500]"
   ]
  },
  {
   "cell_type": "code",
   "execution_count": 25,
   "id": "0d537d74-8b28-4978-8d15-a1eca95e2ac2",
   "metadata": {},
   "outputs": [],
   "source": [
    "def convert_cast(obj) : \n",
    "    li = []\n",
    "    counter = 0 \n",
    "    for i in ast.literal_eval(obj) :\n",
    "        if counter < 3 : \n",
    "            li.append(i['name'])\n",
    "            counter += 1\n",
    "    return li"
   ]
  },
  {
   "cell_type": "code",
   "execution_count": 26,
   "id": "1d81eada-421c-4896-9c98-856ba4573202",
   "metadata": {},
   "outputs": [
    {
     "data": {
      "text/plain": [
       "0    [Sam Worthington, Zoe Saldana, Sigourney Weaver]\n",
       "1       [Johnny Depp, Orlando Bloom, Keira Knightley]\n",
       "2        [Daniel Craig, Christoph Waltz, Léa Seydoux]\n",
       "3        [Christian Bale, Michael Caine, Gary Oldman]\n",
       "4      [Taylor Kitsch, Lynn Collins, Samantha Morton]\n",
       "5        [Tobey Maguire, Kirsten Dunst, James Franco]\n",
       "Name: cast, dtype: object"
      ]
     },
     "execution_count": 26,
     "metadata": {},
     "output_type": "execute_result"
    }
   ],
   "source": [
    "movies['cast'] = movies['cast'].apply(convert_cast)\n",
    "movies['cast'][0:6]"
   ]
  },
  {
   "cell_type": "markdown",
   "id": "8750d44c-fe31-4844-b1cb-125d7b1c8e55",
   "metadata": {},
   "source": [
    "### Crew"
   ]
  },
  {
   "cell_type": "code",
   "execution_count": 27,
   "id": "fced6377-d353-49a8-bb7b-482d2eaaee32",
   "metadata": {},
   "outputs": [
    {
     "data": {
      "text/plain": [
       "'[{\"credit_id\": \"52fe48009251416c750aca23\", \"department\": \"Editing\", \"gender\": 0, \"id\": 1721, \"job\": \"Editor\", \"name\": \"Stephen E. Rivkin\"}, {\"credit_id\": \"539c47ecc3a36810e3001f87\", \"department\": \"Art\", \"gender\": 2, \"id\": 496, \"job\": \"Production Design\", \"name\": \"Rick Carter\"}, {\"credit_id\": \"54491c89c3a3680fb4001cf7\", \"department\": \"Sound\", \"gender\": 0, \"id\": 900, \"job\": \"Sound Designer\", \"name\": \"Christopher Boyes\"}, {\"credit_id\": \"54491cb70e0a267480001bd0\", \"department\": \"Sound\", \"gender\": 0,'"
      ]
     },
     "execution_count": 27,
     "metadata": {},
     "output_type": "execute_result"
    }
   ],
   "source": [
    "movies['crew'][0][:500]"
   ]
  },
  {
   "cell_type": "code",
   "execution_count": 28,
   "id": "c9640714-d63d-44ac-8adb-5eed86970e37",
   "metadata": {},
   "outputs": [],
   "source": [
    "def convert_crew(obj):\n",
    "    crew_set = set()\n",
    "    crew_list = []\n",
    "\n",
    "    for i in ast.literal_eval(obj):\n",
    "        if i['job'] in ['Director', 'Screenplay', 'Producer']:\n",
    "            name = i['name']\n",
    "            if name not in crew_set:\n",
    "                crew_set.add(name)\n",
    "                crew_list.append(name)\n",
    "\n",
    "    return crew_list"
   ]
  },
  {
   "cell_type": "code",
   "execution_count": 29,
   "id": "9d72fab8-ee8b-41ef-88c7-852035e9978d",
   "metadata": {},
   "outputs": [
    {
     "data": {
      "text/plain": [
       "0                          [James Cameron, Jon Landau]\n",
       "1    [Gore Verbinski, Jerry Bruckheimer, Ted Elliot...\n",
       "2    [Sam Mendes, John Logan, Barbara Broccoli, Rob...\n",
       "3    [Charles Roven, Christopher Nolan, Jonathan No...\n",
       "4    [Andrew Stanton, Colin Wilson, Jim Morris, Lin...\n",
       "5    [Sam Raimi, Laura Ziskin, Avi Arad, Alvin Sarg...\n",
       "Name: crew, dtype: object"
      ]
     },
     "execution_count": 29,
     "metadata": {},
     "output_type": "execute_result"
    }
   ],
   "source": [
    "movies['crew'] = movies['crew'].apply(convert_crew)\n",
    "movies['crew'][0:6]"
   ]
  },
  {
   "cell_type": "code",
   "execution_count": 30,
   "id": "1a4c5403-866c-424b-8da2-99e7299947e7",
   "metadata": {},
   "outputs": [
    {
     "data": {
      "text/html": [
       "<div>\n",
       "<style scoped>\n",
       "    .dataframe tbody tr th:only-of-type {\n",
       "        vertical-align: middle;\n",
       "    }\n",
       "\n",
       "    .dataframe tbody tr th {\n",
       "        vertical-align: top;\n",
       "    }\n",
       "\n",
       "    .dataframe thead th {\n",
       "        text-align: right;\n",
       "    }\n",
       "</style>\n",
       "<table border=\"1\" class=\"dataframe\">\n",
       "  <thead>\n",
       "    <tr style=\"text-align: right;\">\n",
       "      <th></th>\n",
       "      <th>movie_id</th>\n",
       "      <th>title</th>\n",
       "      <th>overview</th>\n",
       "      <th>genres</th>\n",
       "      <th>keywords</th>\n",
       "      <th>production_companies</th>\n",
       "      <th>cast</th>\n",
       "      <th>crew</th>\n",
       "    </tr>\n",
       "  </thead>\n",
       "  <tbody>\n",
       "    <tr>\n",
       "      <th>0</th>\n",
       "      <td>19995</td>\n",
       "      <td>Avatar</td>\n",
       "      <td>In the 22nd century, a paraplegic Marine is di...</td>\n",
       "      <td>[Action, Adventure, Fantasy, Science Fiction]</td>\n",
       "      <td>[culture clash, future, space war, space colon...</td>\n",
       "      <td>[Ingenious Film Partners, Twentieth Century Fo...</td>\n",
       "      <td>[Sam Worthington, Zoe Saldana, Sigourney Weaver]</td>\n",
       "      <td>[James Cameron, Jon Landau]</td>\n",
       "    </tr>\n",
       "    <tr>\n",
       "      <th>1</th>\n",
       "      <td>285</td>\n",
       "      <td>Pirates of the Caribbean: At World's End</td>\n",
       "      <td>Captain Barbossa, long believed to be dead, ha...</td>\n",
       "      <td>[Adventure, Fantasy, Action]</td>\n",
       "      <td>[ocean, drug abuse, exotic island, east india ...</td>\n",
       "      <td>[Walt Disney Pictures, Jerry Bruckheimer Films...</td>\n",
       "      <td>[Johnny Depp, Orlando Bloom, Keira Knightley]</td>\n",
       "      <td>[Gore Verbinski, Jerry Bruckheimer, Ted Elliot...</td>\n",
       "    </tr>\n",
       "    <tr>\n",
       "      <th>2</th>\n",
       "      <td>206647</td>\n",
       "      <td>Spectre</td>\n",
       "      <td>A cryptic message from Bond’s past sends him o...</td>\n",
       "      <td>[Action, Adventure, Crime]</td>\n",
       "      <td>[spy, based on novel, secret agent, sequel, mi...</td>\n",
       "      <td>[Columbia Pictures, Danjaq, B24]</td>\n",
       "      <td>[Daniel Craig, Christoph Waltz, Léa Seydoux]</td>\n",
       "      <td>[Sam Mendes, John Logan, Barbara Broccoli, Rob...</td>\n",
       "    </tr>\n",
       "    <tr>\n",
       "      <th>3</th>\n",
       "      <td>49026</td>\n",
       "      <td>The Dark Knight Rises</td>\n",
       "      <td>Following the death of District Attorney Harve...</td>\n",
       "      <td>[Action, Crime, Drama, Thriller]</td>\n",
       "      <td>[dc comics, crime fighter, terrorist, secret i...</td>\n",
       "      <td>[Legendary Pictures, Warner Bros., DC Entertai...</td>\n",
       "      <td>[Christian Bale, Michael Caine, Gary Oldman]</td>\n",
       "      <td>[Charles Roven, Christopher Nolan, Jonathan No...</td>\n",
       "    </tr>\n",
       "    <tr>\n",
       "      <th>4</th>\n",
       "      <td>49529</td>\n",
       "      <td>John Carter</td>\n",
       "      <td>John Carter is a war-weary, former military ca...</td>\n",
       "      <td>[Action, Adventure, Science Fiction]</td>\n",
       "      <td>[based on novel, mars, medallion, space travel...</td>\n",
       "      <td>[Walt Disney Pictures]</td>\n",
       "      <td>[Taylor Kitsch, Lynn Collins, Samantha Morton]</td>\n",
       "      <td>[Andrew Stanton, Colin Wilson, Jim Morris, Lin...</td>\n",
       "    </tr>\n",
       "  </tbody>\n",
       "</table>\n",
       "</div>"
      ],
      "text/plain": [
       "   movie_id                                     title  \\\n",
       "0     19995                                    Avatar   \n",
       "1       285  Pirates of the Caribbean: At World's End   \n",
       "2    206647                                   Spectre   \n",
       "3     49026                     The Dark Knight Rises   \n",
       "4     49529                               John Carter   \n",
       "\n",
       "                                            overview  \\\n",
       "0  In the 22nd century, a paraplegic Marine is di...   \n",
       "1  Captain Barbossa, long believed to be dead, ha...   \n",
       "2  A cryptic message from Bond’s past sends him o...   \n",
       "3  Following the death of District Attorney Harve...   \n",
       "4  John Carter is a war-weary, former military ca...   \n",
       "\n",
       "                                          genres  \\\n",
       "0  [Action, Adventure, Fantasy, Science Fiction]   \n",
       "1                   [Adventure, Fantasy, Action]   \n",
       "2                     [Action, Adventure, Crime]   \n",
       "3               [Action, Crime, Drama, Thriller]   \n",
       "4           [Action, Adventure, Science Fiction]   \n",
       "\n",
       "                                            keywords  \\\n",
       "0  [culture clash, future, space war, space colon...   \n",
       "1  [ocean, drug abuse, exotic island, east india ...   \n",
       "2  [spy, based on novel, secret agent, sequel, mi...   \n",
       "3  [dc comics, crime fighter, terrorist, secret i...   \n",
       "4  [based on novel, mars, medallion, space travel...   \n",
       "\n",
       "                                production_companies  \\\n",
       "0  [Ingenious Film Partners, Twentieth Century Fo...   \n",
       "1  [Walt Disney Pictures, Jerry Bruckheimer Films...   \n",
       "2                   [Columbia Pictures, Danjaq, B24]   \n",
       "3  [Legendary Pictures, Warner Bros., DC Entertai...   \n",
       "4                             [Walt Disney Pictures]   \n",
       "\n",
       "                                               cast  \\\n",
       "0  [Sam Worthington, Zoe Saldana, Sigourney Weaver]   \n",
       "1     [Johnny Depp, Orlando Bloom, Keira Knightley]   \n",
       "2      [Daniel Craig, Christoph Waltz, Léa Seydoux]   \n",
       "3      [Christian Bale, Michael Caine, Gary Oldman]   \n",
       "4    [Taylor Kitsch, Lynn Collins, Samantha Morton]   \n",
       "\n",
       "                                                crew  \n",
       "0                        [James Cameron, Jon Landau]  \n",
       "1  [Gore Verbinski, Jerry Bruckheimer, Ted Elliot...  \n",
       "2  [Sam Mendes, John Logan, Barbara Broccoli, Rob...  \n",
       "3  [Charles Roven, Christopher Nolan, Jonathan No...  \n",
       "4  [Andrew Stanton, Colin Wilson, Jim Morris, Lin...  "
      ]
     },
     "execution_count": 30,
     "metadata": {},
     "output_type": "execute_result"
    }
   ],
   "source": [
    "movies.head()"
   ]
  },
  {
   "cell_type": "markdown",
   "id": "c87aa05f-304b-499a-99b5-b79605280baf",
   "metadata": {},
   "source": [
    "Our dataframe looks much better and is easier to read now."
   ]
  },
  {
   "cell_type": "markdown",
   "id": "774dc03b-7ba6-46d5-8c0a-b550d0549a5f",
   "metadata": {},
   "source": [
    "### Overview"
   ]
  },
  {
   "cell_type": "markdown",
   "id": "1c9710ab-2f21-40c9-8f1a-7da3803b6e0d",
   "metadata": {},
   "source": [
    "This will convert our movie overviews into a list of strings, in other words, tokens. This will help us in measuring similarities between movies. "
   ]
  },
  {
   "cell_type": "code",
   "execution_count": 31,
   "id": "13510867-2d7b-4b11-9192-5d209319d874",
   "metadata": {},
   "outputs": [
    {
     "data": {
      "text/plain": [
       "0    [In, the, 22nd, century,, a, paraplegic, Marin...\n",
       "1    [Captain, Barbossa,, long, believed, to, be, d...\n",
       "2    [A, cryptic, message, from, Bond’s, past, send...\n",
       "3    [Following, the, death, of, District, Attorney...\n",
       "4    [John, Carter, is, a, war-weary,, former, mili...\n",
       "5    [The, seemingly, invincible, Spider-Man, goes,...\n",
       "Name: overview, dtype: object"
      ]
     },
     "execution_count": 31,
     "metadata": {},
     "output_type": "execute_result"
    }
   ],
   "source": [
    "movies['overview'] = movies['overview'].apply(lambda x:x.split())\n",
    "movies['overview'][0:6]"
   ]
  },
  {
   "cell_type": "markdown",
   "id": "ddac00b1-fc25-475b-a70c-f37bcac1dd5d",
   "metadata": {},
   "source": [
    "## Feature Transformation"
   ]
  },
  {
   "cell_type": "markdown",
   "id": "36b387c9-802a-4643-b637-a7e9908336f0",
   "metadata": {},
   "source": [
    "Now we will remove the spaces between strings for each value in 'genres', 'keywords', 'production_companies', 'cast', and 'crew'. <br><br> The purpose of this is to create only one tag per feature instead of two or more. <br><br> **Example:**<br> 'Daniel Craig' will be 'DanielCraig' <br><br> If we don't do this, then another actor with the first name Daniel might get recommended to the user (eg: Daniel Day-Lewis)."
   ]
  },
  {
   "cell_type": "code",
   "execution_count": 32,
   "id": "d65cce07-498d-4da7-93e7-d75d83a642b4",
   "metadata": {},
   "outputs": [],
   "source": [
    "movies['genres'] = movies['genres'].apply(lambda x:[i.replace(' ', '') for i in x])\n",
    "movies['keywords'] = movies['keywords'].apply(lambda x:[i.replace(' ', '') for i in x])\n",
    "movies['production_companies'] = movies['production_companies'].apply(lambda x:[i.replace(' ','') for i in x])\n",
    "movies['cast'] = movies['cast'].apply(lambda x:[i.replace(' ', '') for i in x])\n",
    "movies['crew'] = movies['crew'].apply(lambda x:[i.replace(' ', '') for i in x])"
   ]
  },
  {
   "cell_type": "code",
   "execution_count": 33,
   "id": "04364e5e-f7d4-494d-9b1a-104e836ab22e",
   "metadata": {},
   "outputs": [
    {
     "data": {
      "text/html": [
       "<div>\n",
       "<style scoped>\n",
       "    .dataframe tbody tr th:only-of-type {\n",
       "        vertical-align: middle;\n",
       "    }\n",
       "\n",
       "    .dataframe tbody tr th {\n",
       "        vertical-align: top;\n",
       "    }\n",
       "\n",
       "    .dataframe thead th {\n",
       "        text-align: right;\n",
       "    }\n",
       "</style>\n",
       "<table border=\"1\" class=\"dataframe\">\n",
       "  <thead>\n",
       "    <tr style=\"text-align: right;\">\n",
       "      <th></th>\n",
       "      <th>movie_id</th>\n",
       "      <th>title</th>\n",
       "      <th>overview</th>\n",
       "      <th>genres</th>\n",
       "      <th>keywords</th>\n",
       "      <th>production_companies</th>\n",
       "      <th>cast</th>\n",
       "      <th>crew</th>\n",
       "    </tr>\n",
       "  </thead>\n",
       "  <tbody>\n",
       "    <tr>\n",
       "      <th>0</th>\n",
       "      <td>19995</td>\n",
       "      <td>Avatar</td>\n",
       "      <td>[In, the, 22nd, century,, a, paraplegic, Marin...</td>\n",
       "      <td>[Action, Adventure, Fantasy, ScienceFiction]</td>\n",
       "      <td>[cultureclash, future, spacewar, spacecolony, ...</td>\n",
       "      <td>[IngeniousFilmPartners, TwentiethCenturyFoxFil...</td>\n",
       "      <td>[SamWorthington, ZoeSaldana, SigourneyWeaver]</td>\n",
       "      <td>[JamesCameron, JonLandau]</td>\n",
       "    </tr>\n",
       "    <tr>\n",
       "      <th>1</th>\n",
       "      <td>285</td>\n",
       "      <td>Pirates of the Caribbean: At World's End</td>\n",
       "      <td>[Captain, Barbossa,, long, believed, to, be, d...</td>\n",
       "      <td>[Adventure, Fantasy, Action]</td>\n",
       "      <td>[ocean, drugabuse, exoticisland, eastindiatrad...</td>\n",
       "      <td>[WaltDisneyPictures, JerryBruckheimerFilms, Se...</td>\n",
       "      <td>[JohnnyDepp, OrlandoBloom, KeiraKnightley]</td>\n",
       "      <td>[GoreVerbinski, JerryBruckheimer, TedElliott, ...</td>\n",
       "    </tr>\n",
       "    <tr>\n",
       "      <th>2</th>\n",
       "      <td>206647</td>\n",
       "      <td>Spectre</td>\n",
       "      <td>[A, cryptic, message, from, Bond’s, past, send...</td>\n",
       "      <td>[Action, Adventure, Crime]</td>\n",
       "      <td>[spy, basedonnovel, secretagent, sequel, mi6, ...</td>\n",
       "      <td>[ColumbiaPictures, Danjaq, B24]</td>\n",
       "      <td>[DanielCraig, ChristophWaltz, LéaSeydoux]</td>\n",
       "      <td>[SamMendes, JohnLogan, BarbaraBroccoli, Robert...</td>\n",
       "    </tr>\n",
       "    <tr>\n",
       "      <th>3</th>\n",
       "      <td>49026</td>\n",
       "      <td>The Dark Knight Rises</td>\n",
       "      <td>[Following, the, death, of, District, Attorney...</td>\n",
       "      <td>[Action, Crime, Drama, Thriller]</td>\n",
       "      <td>[dccomics, crimefighter, terrorist, secretiden...</td>\n",
       "      <td>[LegendaryPictures, WarnerBros., DCEntertainme...</td>\n",
       "      <td>[ChristianBale, MichaelCaine, GaryOldman]</td>\n",
       "      <td>[CharlesRoven, ChristopherNolan, JonathanNolan...</td>\n",
       "    </tr>\n",
       "    <tr>\n",
       "      <th>4</th>\n",
       "      <td>49529</td>\n",
       "      <td>John Carter</td>\n",
       "      <td>[John, Carter, is, a, war-weary,, former, mili...</td>\n",
       "      <td>[Action, Adventure, ScienceFiction]</td>\n",
       "      <td>[basedonnovel, mars, medallion, spacetravel, p...</td>\n",
       "      <td>[WaltDisneyPictures]</td>\n",
       "      <td>[TaylorKitsch, LynnCollins, SamanthaMorton]</td>\n",
       "      <td>[AndrewStanton, ColinWilson, JimMorris, Lindse...</td>\n",
       "    </tr>\n",
       "  </tbody>\n",
       "</table>\n",
       "</div>"
      ],
      "text/plain": [
       "   movie_id                                     title  \\\n",
       "0     19995                                    Avatar   \n",
       "1       285  Pirates of the Caribbean: At World's End   \n",
       "2    206647                                   Spectre   \n",
       "3     49026                     The Dark Knight Rises   \n",
       "4     49529                               John Carter   \n",
       "\n",
       "                                            overview  \\\n",
       "0  [In, the, 22nd, century,, a, paraplegic, Marin...   \n",
       "1  [Captain, Barbossa,, long, believed, to, be, d...   \n",
       "2  [A, cryptic, message, from, Bond’s, past, send...   \n",
       "3  [Following, the, death, of, District, Attorney...   \n",
       "4  [John, Carter, is, a, war-weary,, former, mili...   \n",
       "\n",
       "                                         genres  \\\n",
       "0  [Action, Adventure, Fantasy, ScienceFiction]   \n",
       "1                  [Adventure, Fantasy, Action]   \n",
       "2                    [Action, Adventure, Crime]   \n",
       "3              [Action, Crime, Drama, Thriller]   \n",
       "4           [Action, Adventure, ScienceFiction]   \n",
       "\n",
       "                                            keywords  \\\n",
       "0  [cultureclash, future, spacewar, spacecolony, ...   \n",
       "1  [ocean, drugabuse, exoticisland, eastindiatrad...   \n",
       "2  [spy, basedonnovel, secretagent, sequel, mi6, ...   \n",
       "3  [dccomics, crimefighter, terrorist, secretiden...   \n",
       "4  [basedonnovel, mars, medallion, spacetravel, p...   \n",
       "\n",
       "                                production_companies  \\\n",
       "0  [IngeniousFilmPartners, TwentiethCenturyFoxFil...   \n",
       "1  [WaltDisneyPictures, JerryBruckheimerFilms, Se...   \n",
       "2                    [ColumbiaPictures, Danjaq, B24]   \n",
       "3  [LegendaryPictures, WarnerBros., DCEntertainme...   \n",
       "4                               [WaltDisneyPictures]   \n",
       "\n",
       "                                            cast  \\\n",
       "0  [SamWorthington, ZoeSaldana, SigourneyWeaver]   \n",
       "1     [JohnnyDepp, OrlandoBloom, KeiraKnightley]   \n",
       "2      [DanielCraig, ChristophWaltz, LéaSeydoux]   \n",
       "3      [ChristianBale, MichaelCaine, GaryOldman]   \n",
       "4    [TaylorKitsch, LynnCollins, SamanthaMorton]   \n",
       "\n",
       "                                                crew  \n",
       "0                          [JamesCameron, JonLandau]  \n",
       "1  [GoreVerbinski, JerryBruckheimer, TedElliott, ...  \n",
       "2  [SamMendes, JohnLogan, BarbaraBroccoli, Robert...  \n",
       "3  [CharlesRoven, ChristopherNolan, JonathanNolan...  \n",
       "4  [AndrewStanton, ColinWilson, JimMorris, Lindse...  "
      ]
     },
     "execution_count": 33,
     "metadata": {},
     "output_type": "execute_result"
    }
   ],
   "source": [
    "movies.head()"
   ]
  },
  {
   "cell_type": "markdown",
   "id": "1ad6dd0d-724c-48ae-af4a-7327e066d459",
   "metadata": {},
   "source": [
    "# Creating Our Final Dataframe"
   ]
  },
  {
   "cell_type": "markdown",
   "id": "7055d435-917f-4537-a28f-d86ef3571983",
   "metadata": {},
   "source": [
    "First, we will create a 'tags' column that joins overview, genres, keywords, cast, and crew."
   ]
  },
  {
   "cell_type": "code",
   "execution_count": 34,
   "id": "99af820a-1852-44d2-8191-60b2359ecc17",
   "metadata": {},
   "outputs": [
    {
     "data": {
      "text/html": [
       "<div>\n",
       "<style scoped>\n",
       "    .dataframe tbody tr th:only-of-type {\n",
       "        vertical-align: middle;\n",
       "    }\n",
       "\n",
       "    .dataframe tbody tr th {\n",
       "        vertical-align: top;\n",
       "    }\n",
       "\n",
       "    .dataframe thead th {\n",
       "        text-align: right;\n",
       "    }\n",
       "</style>\n",
       "<table border=\"1\" class=\"dataframe\">\n",
       "  <thead>\n",
       "    <tr style=\"text-align: right;\">\n",
       "      <th></th>\n",
       "      <th>movie_id</th>\n",
       "      <th>title</th>\n",
       "      <th>overview</th>\n",
       "      <th>genres</th>\n",
       "      <th>keywords</th>\n",
       "      <th>production_companies</th>\n",
       "      <th>cast</th>\n",
       "      <th>crew</th>\n",
       "      <th>tags</th>\n",
       "    </tr>\n",
       "  </thead>\n",
       "  <tbody>\n",
       "    <tr>\n",
       "      <th>0</th>\n",
       "      <td>19995</td>\n",
       "      <td>Avatar</td>\n",
       "      <td>[In, the, 22nd, century,, a, paraplegic, Marin...</td>\n",
       "      <td>[Action, Adventure, Fantasy, ScienceFiction]</td>\n",
       "      <td>[cultureclash, future, spacewar, spacecolony, ...</td>\n",
       "      <td>[IngeniousFilmPartners, TwentiethCenturyFoxFil...</td>\n",
       "      <td>[SamWorthington, ZoeSaldana, SigourneyWeaver]</td>\n",
       "      <td>[JamesCameron, JonLandau]</td>\n",
       "      <td>[In, the, 22nd, century,, a, paraplegic, Marin...</td>\n",
       "    </tr>\n",
       "    <tr>\n",
       "      <th>1</th>\n",
       "      <td>285</td>\n",
       "      <td>Pirates of the Caribbean: At World's End</td>\n",
       "      <td>[Captain, Barbossa,, long, believed, to, be, d...</td>\n",
       "      <td>[Adventure, Fantasy, Action]</td>\n",
       "      <td>[ocean, drugabuse, exoticisland, eastindiatrad...</td>\n",
       "      <td>[WaltDisneyPictures, JerryBruckheimerFilms, Se...</td>\n",
       "      <td>[JohnnyDepp, OrlandoBloom, KeiraKnightley]</td>\n",
       "      <td>[GoreVerbinski, JerryBruckheimer, TedElliott, ...</td>\n",
       "      <td>[Captain, Barbossa,, long, believed, to, be, d...</td>\n",
       "    </tr>\n",
       "    <tr>\n",
       "      <th>2</th>\n",
       "      <td>206647</td>\n",
       "      <td>Spectre</td>\n",
       "      <td>[A, cryptic, message, from, Bond’s, past, send...</td>\n",
       "      <td>[Action, Adventure, Crime]</td>\n",
       "      <td>[spy, basedonnovel, secretagent, sequel, mi6, ...</td>\n",
       "      <td>[ColumbiaPictures, Danjaq, B24]</td>\n",
       "      <td>[DanielCraig, ChristophWaltz, LéaSeydoux]</td>\n",
       "      <td>[SamMendes, JohnLogan, BarbaraBroccoli, Robert...</td>\n",
       "      <td>[A, cryptic, message, from, Bond’s, past, send...</td>\n",
       "    </tr>\n",
       "    <tr>\n",
       "      <th>3</th>\n",
       "      <td>49026</td>\n",
       "      <td>The Dark Knight Rises</td>\n",
       "      <td>[Following, the, death, of, District, Attorney...</td>\n",
       "      <td>[Action, Crime, Drama, Thriller]</td>\n",
       "      <td>[dccomics, crimefighter, terrorist, secretiden...</td>\n",
       "      <td>[LegendaryPictures, WarnerBros., DCEntertainme...</td>\n",
       "      <td>[ChristianBale, MichaelCaine, GaryOldman]</td>\n",
       "      <td>[CharlesRoven, ChristopherNolan, JonathanNolan...</td>\n",
       "      <td>[Following, the, death, of, District, Attorney...</td>\n",
       "    </tr>\n",
       "    <tr>\n",
       "      <th>4</th>\n",
       "      <td>49529</td>\n",
       "      <td>John Carter</td>\n",
       "      <td>[John, Carter, is, a, war-weary,, former, mili...</td>\n",
       "      <td>[Action, Adventure, ScienceFiction]</td>\n",
       "      <td>[basedonnovel, mars, medallion, spacetravel, p...</td>\n",
       "      <td>[WaltDisneyPictures]</td>\n",
       "      <td>[TaylorKitsch, LynnCollins, SamanthaMorton]</td>\n",
       "      <td>[AndrewStanton, ColinWilson, JimMorris, Lindse...</td>\n",
       "      <td>[John, Carter, is, a, war-weary,, former, mili...</td>\n",
       "    </tr>\n",
       "    <tr>\n",
       "      <th>...</th>\n",
       "      <td>...</td>\n",
       "      <td>...</td>\n",
       "      <td>...</td>\n",
       "      <td>...</td>\n",
       "      <td>...</td>\n",
       "      <td>...</td>\n",
       "      <td>...</td>\n",
       "      <td>...</td>\n",
       "      <td>...</td>\n",
       "    </tr>\n",
       "    <tr>\n",
       "      <th>4804</th>\n",
       "      <td>9367</td>\n",
       "      <td>El Mariachi</td>\n",
       "      <td>[El, Mariachi, just, wants, to, play, his, gui...</td>\n",
       "      <td>[Action, Crime, Thriller]</td>\n",
       "      <td>[unitedstates–mexicobarrier, legs, arms, paper...</td>\n",
       "      <td>[ColumbiaPictures]</td>\n",
       "      <td>[CarlosGallardo, JaimedeHoyos, PeterMarquardt]</td>\n",
       "      <td>[RobertRodriguez, CarlosGallardo]</td>\n",
       "      <td>[El, Mariachi, just, wants, to, play, his, gui...</td>\n",
       "    </tr>\n",
       "    <tr>\n",
       "      <th>4805</th>\n",
       "      <td>72766</td>\n",
       "      <td>Newlyweds</td>\n",
       "      <td>[A, newlywed, couple's, honeymoon, is, upended...</td>\n",
       "      <td>[Comedy, Romance]</td>\n",
       "      <td>[]</td>\n",
       "      <td>[]</td>\n",
       "      <td>[EdwardBurns, KerryBishé, MarshaDietlein]</td>\n",
       "      <td>[EdwardBurns, WilliamRexer, AaronLubin]</td>\n",
       "      <td>[A, newlywed, couple's, honeymoon, is, upended...</td>\n",
       "    </tr>\n",
       "    <tr>\n",
       "      <th>4806</th>\n",
       "      <td>231617</td>\n",
       "      <td>Signed, Sealed, Delivered</td>\n",
       "      <td>[\"Signed,, Sealed,, Delivered\", introduces, a,...</td>\n",
       "      <td>[Comedy, Drama, Romance, TVMovie]</td>\n",
       "      <td>[date, loveatfirstsight, narration, investigat...</td>\n",
       "      <td>[FrontStreetPictures, MuseEntertainmentEnterpr...</td>\n",
       "      <td>[EricMabius, KristinBooth, CrystalLowe]</td>\n",
       "      <td>[HarveyKahn, ScottSmith]</td>\n",
       "      <td>[\"Signed,, Sealed,, Delivered\", introduces, a,...</td>\n",
       "    </tr>\n",
       "    <tr>\n",
       "      <th>4807</th>\n",
       "      <td>126186</td>\n",
       "      <td>Shanghai Calling</td>\n",
       "      <td>[When, ambitious, New, York, attorney, Sam, is...</td>\n",
       "      <td>[]</td>\n",
       "      <td>[]</td>\n",
       "      <td>[]</td>\n",
       "      <td>[DanielHenney, ElizaCoupe, BillPaxton]</td>\n",
       "      <td>[DanielHsia]</td>\n",
       "      <td>[When, ambitious, New, York, attorney, Sam, is...</td>\n",
       "    </tr>\n",
       "    <tr>\n",
       "      <th>4808</th>\n",
       "      <td>25975</td>\n",
       "      <td>My Date with Drew</td>\n",
       "      <td>[Ever, since, the, second, grade, when, he, fi...</td>\n",
       "      <td>[Documentary]</td>\n",
       "      <td>[obsession, camcorder, crush, dreamgirl]</td>\n",
       "      <td>[rustybearentertainment, luckycrowfilms]</td>\n",
       "      <td>[DrewBarrymore, BrianHerzlinger, CoreyFeldman]</td>\n",
       "      <td>[BrianHerzlinger, JonGunn, BrettWinn]</td>\n",
       "      <td>[Ever, since, the, second, grade, when, he, fi...</td>\n",
       "    </tr>\n",
       "  </tbody>\n",
       "</table>\n",
       "<p>4806 rows × 9 columns</p>\n",
       "</div>"
      ],
      "text/plain": [
       "      movie_id                                     title  \\\n",
       "0        19995                                    Avatar   \n",
       "1          285  Pirates of the Caribbean: At World's End   \n",
       "2       206647                                   Spectre   \n",
       "3        49026                     The Dark Knight Rises   \n",
       "4        49529                               John Carter   \n",
       "...        ...                                       ...   \n",
       "4804      9367                               El Mariachi   \n",
       "4805     72766                                 Newlyweds   \n",
       "4806    231617                 Signed, Sealed, Delivered   \n",
       "4807    126186                          Shanghai Calling   \n",
       "4808     25975                         My Date with Drew   \n",
       "\n",
       "                                               overview  \\\n",
       "0     [In, the, 22nd, century,, a, paraplegic, Marin...   \n",
       "1     [Captain, Barbossa,, long, believed, to, be, d...   \n",
       "2     [A, cryptic, message, from, Bond’s, past, send...   \n",
       "3     [Following, the, death, of, District, Attorney...   \n",
       "4     [John, Carter, is, a, war-weary,, former, mili...   \n",
       "...                                                 ...   \n",
       "4804  [El, Mariachi, just, wants, to, play, his, gui...   \n",
       "4805  [A, newlywed, couple's, honeymoon, is, upended...   \n",
       "4806  [\"Signed,, Sealed,, Delivered\", introduces, a,...   \n",
       "4807  [When, ambitious, New, York, attorney, Sam, is...   \n",
       "4808  [Ever, since, the, second, grade, when, he, fi...   \n",
       "\n",
       "                                            genres  \\\n",
       "0     [Action, Adventure, Fantasy, ScienceFiction]   \n",
       "1                     [Adventure, Fantasy, Action]   \n",
       "2                       [Action, Adventure, Crime]   \n",
       "3                 [Action, Crime, Drama, Thriller]   \n",
       "4              [Action, Adventure, ScienceFiction]   \n",
       "...                                            ...   \n",
       "4804                     [Action, Crime, Thriller]   \n",
       "4805                             [Comedy, Romance]   \n",
       "4806             [Comedy, Drama, Romance, TVMovie]   \n",
       "4807                                            []   \n",
       "4808                                 [Documentary]   \n",
       "\n",
       "                                               keywords  \\\n",
       "0     [cultureclash, future, spacewar, spacecolony, ...   \n",
       "1     [ocean, drugabuse, exoticisland, eastindiatrad...   \n",
       "2     [spy, basedonnovel, secretagent, sequel, mi6, ...   \n",
       "3     [dccomics, crimefighter, terrorist, secretiden...   \n",
       "4     [basedonnovel, mars, medallion, spacetravel, p...   \n",
       "...                                                 ...   \n",
       "4804  [unitedstates–mexicobarrier, legs, arms, paper...   \n",
       "4805                                                 []   \n",
       "4806  [date, loveatfirstsight, narration, investigat...   \n",
       "4807                                                 []   \n",
       "4808           [obsession, camcorder, crush, dreamgirl]   \n",
       "\n",
       "                                   production_companies  \\\n",
       "0     [IngeniousFilmPartners, TwentiethCenturyFoxFil...   \n",
       "1     [WaltDisneyPictures, JerryBruckheimerFilms, Se...   \n",
       "2                       [ColumbiaPictures, Danjaq, B24]   \n",
       "3     [LegendaryPictures, WarnerBros., DCEntertainme...   \n",
       "4                                  [WaltDisneyPictures]   \n",
       "...                                                 ...   \n",
       "4804                                 [ColumbiaPictures]   \n",
       "4805                                                 []   \n",
       "4806  [FrontStreetPictures, MuseEntertainmentEnterpr...   \n",
       "4807                                                 []   \n",
       "4808           [rustybearentertainment, luckycrowfilms]   \n",
       "\n",
       "                                                cast  \\\n",
       "0      [SamWorthington, ZoeSaldana, SigourneyWeaver]   \n",
       "1         [JohnnyDepp, OrlandoBloom, KeiraKnightley]   \n",
       "2          [DanielCraig, ChristophWaltz, LéaSeydoux]   \n",
       "3          [ChristianBale, MichaelCaine, GaryOldman]   \n",
       "4        [TaylorKitsch, LynnCollins, SamanthaMorton]   \n",
       "...                                              ...   \n",
       "4804  [CarlosGallardo, JaimedeHoyos, PeterMarquardt]   \n",
       "4805       [EdwardBurns, KerryBishé, MarshaDietlein]   \n",
       "4806         [EricMabius, KristinBooth, CrystalLowe]   \n",
       "4807          [DanielHenney, ElizaCoupe, BillPaxton]   \n",
       "4808  [DrewBarrymore, BrianHerzlinger, CoreyFeldman]   \n",
       "\n",
       "                                                   crew  \\\n",
       "0                             [JamesCameron, JonLandau]   \n",
       "1     [GoreVerbinski, JerryBruckheimer, TedElliott, ...   \n",
       "2     [SamMendes, JohnLogan, BarbaraBroccoli, Robert...   \n",
       "3     [CharlesRoven, ChristopherNolan, JonathanNolan...   \n",
       "4     [AndrewStanton, ColinWilson, JimMorris, Lindse...   \n",
       "...                                                 ...   \n",
       "4804                  [RobertRodriguez, CarlosGallardo]   \n",
       "4805            [EdwardBurns, WilliamRexer, AaronLubin]   \n",
       "4806                           [HarveyKahn, ScottSmith]   \n",
       "4807                                       [DanielHsia]   \n",
       "4808              [BrianHerzlinger, JonGunn, BrettWinn]   \n",
       "\n",
       "                                                   tags  \n",
       "0     [In, the, 22nd, century,, a, paraplegic, Marin...  \n",
       "1     [Captain, Barbossa,, long, believed, to, be, d...  \n",
       "2     [A, cryptic, message, from, Bond’s, past, send...  \n",
       "3     [Following, the, death, of, District, Attorney...  \n",
       "4     [John, Carter, is, a, war-weary,, former, mili...  \n",
       "...                                                 ...  \n",
       "4804  [El, Mariachi, just, wants, to, play, his, gui...  \n",
       "4805  [A, newlywed, couple's, honeymoon, is, upended...  \n",
       "4806  [\"Signed,, Sealed,, Delivered\", introduces, a,...  \n",
       "4807  [When, ambitious, New, York, attorney, Sam, is...  \n",
       "4808  [Ever, since, the, second, grade, when, he, fi...  \n",
       "\n",
       "[4806 rows x 9 columns]"
      ]
     },
     "execution_count": 34,
     "metadata": {},
     "output_type": "execute_result"
    }
   ],
   "source": [
    "movies['tags'] = movies['overview'] + movies['genres'] + movies['keywords'] + movies['production_companies'] + movies['cast'] + movies['crew']\n",
    "movies"
   ]
  },
  {
   "cell_type": "markdown",
   "id": "d1339fd0-04ca-43f6-9512-6c6394eee024",
   "metadata": {},
   "source": [
    "## Final Dataframe"
   ]
  },
  {
   "cell_type": "markdown",
   "id": "5c8af7bb-4b5d-436c-902d-6219f4da8ccb",
   "metadata": {},
   "source": [
    "Since the newly-created tags column already contains all the necessary information for creating our recommendation system, our dataframe will only contain this column, past the title column. "
   ]
  },
  {
   "cell_type": "code",
   "execution_count": 35,
   "id": "27e47f8e-3d34-4c50-a71c-d7681136e61b",
   "metadata": {},
   "outputs": [
    {
     "data": {
      "text/html": [
       "<div>\n",
       "<style scoped>\n",
       "    .dataframe tbody tr th:only-of-type {\n",
       "        vertical-align: middle;\n",
       "    }\n",
       "\n",
       "    .dataframe tbody tr th {\n",
       "        vertical-align: top;\n",
       "    }\n",
       "\n",
       "    .dataframe thead th {\n",
       "        text-align: right;\n",
       "    }\n",
       "</style>\n",
       "<table border=\"1\" class=\"dataframe\">\n",
       "  <thead>\n",
       "    <tr style=\"text-align: right;\">\n",
       "      <th></th>\n",
       "      <th>movie_id</th>\n",
       "      <th>title</th>\n",
       "      <th>tags</th>\n",
       "    </tr>\n",
       "  </thead>\n",
       "  <tbody>\n",
       "    <tr>\n",
       "      <th>0</th>\n",
       "      <td>19995</td>\n",
       "      <td>Avatar</td>\n",
       "      <td>[In, the, 22nd, century,, a, paraplegic, Marin...</td>\n",
       "    </tr>\n",
       "    <tr>\n",
       "      <th>1</th>\n",
       "      <td>285</td>\n",
       "      <td>Pirates of the Caribbean: At World's End</td>\n",
       "      <td>[Captain, Barbossa,, long, believed, to, be, d...</td>\n",
       "    </tr>\n",
       "    <tr>\n",
       "      <th>2</th>\n",
       "      <td>206647</td>\n",
       "      <td>Spectre</td>\n",
       "      <td>[A, cryptic, message, from, Bond’s, past, send...</td>\n",
       "    </tr>\n",
       "    <tr>\n",
       "      <th>3</th>\n",
       "      <td>49026</td>\n",
       "      <td>The Dark Knight Rises</td>\n",
       "      <td>[Following, the, death, of, District, Attorney...</td>\n",
       "    </tr>\n",
       "    <tr>\n",
       "      <th>4</th>\n",
       "      <td>49529</td>\n",
       "      <td>John Carter</td>\n",
       "      <td>[John, Carter, is, a, war-weary,, former, mili...</td>\n",
       "    </tr>\n",
       "    <tr>\n",
       "      <th>...</th>\n",
       "      <td>...</td>\n",
       "      <td>...</td>\n",
       "      <td>...</td>\n",
       "    </tr>\n",
       "    <tr>\n",
       "      <th>4804</th>\n",
       "      <td>9367</td>\n",
       "      <td>El Mariachi</td>\n",
       "      <td>[El, Mariachi, just, wants, to, play, his, gui...</td>\n",
       "    </tr>\n",
       "    <tr>\n",
       "      <th>4805</th>\n",
       "      <td>72766</td>\n",
       "      <td>Newlyweds</td>\n",
       "      <td>[A, newlywed, couple's, honeymoon, is, upended...</td>\n",
       "    </tr>\n",
       "    <tr>\n",
       "      <th>4806</th>\n",
       "      <td>231617</td>\n",
       "      <td>Signed, Sealed, Delivered</td>\n",
       "      <td>[\"Signed,, Sealed,, Delivered\", introduces, a,...</td>\n",
       "    </tr>\n",
       "    <tr>\n",
       "      <th>4807</th>\n",
       "      <td>126186</td>\n",
       "      <td>Shanghai Calling</td>\n",
       "      <td>[When, ambitious, New, York, attorney, Sam, is...</td>\n",
       "    </tr>\n",
       "    <tr>\n",
       "      <th>4808</th>\n",
       "      <td>25975</td>\n",
       "      <td>My Date with Drew</td>\n",
       "      <td>[Ever, since, the, second, grade, when, he, fi...</td>\n",
       "    </tr>\n",
       "  </tbody>\n",
       "</table>\n",
       "<p>4806 rows × 3 columns</p>\n",
       "</div>"
      ],
      "text/plain": [
       "      movie_id                                     title  \\\n",
       "0        19995                                    Avatar   \n",
       "1          285  Pirates of the Caribbean: At World's End   \n",
       "2       206647                                   Spectre   \n",
       "3        49026                     The Dark Knight Rises   \n",
       "4        49529                               John Carter   \n",
       "...        ...                                       ...   \n",
       "4804      9367                               El Mariachi   \n",
       "4805     72766                                 Newlyweds   \n",
       "4806    231617                 Signed, Sealed, Delivered   \n",
       "4807    126186                          Shanghai Calling   \n",
       "4808     25975                         My Date with Drew   \n",
       "\n",
       "                                                   tags  \n",
       "0     [In, the, 22nd, century,, a, paraplegic, Marin...  \n",
       "1     [Captain, Barbossa,, long, believed, to, be, d...  \n",
       "2     [A, cryptic, message, from, Bond’s, past, send...  \n",
       "3     [Following, the, death, of, District, Attorney...  \n",
       "4     [John, Carter, is, a, war-weary,, former, mili...  \n",
       "...                                                 ...  \n",
       "4804  [El, Mariachi, just, wants, to, play, his, gui...  \n",
       "4805  [A, newlywed, couple's, honeymoon, is, upended...  \n",
       "4806  [\"Signed,, Sealed,, Delivered\", introduces, a,...  \n",
       "4807  [When, ambitious, New, York, attorney, Sam, is...  \n",
       "4808  [Ever, since, the, second, grade, when, he, fi...  \n",
       "\n",
       "[4806 rows x 3 columns]"
      ]
     },
     "execution_count": 35,
     "metadata": {},
     "output_type": "execute_result"
    }
   ],
   "source": [
    "movies_df = movies[['movie_id','title','tags']]\n",
    "movies_df"
   ]
  },
  {
   "cell_type": "markdown",
   "id": "0583f4a1-6d4c-4776-9a3d-ed16f88d49f2",
   "metadata": {},
   "source": [
    "Now we can convert each list in tags column to a string using join function ... "
   ]
  },
  {
   "cell_type": "code",
   "execution_count": 36,
   "id": "463843c6-17ea-45c3-8efc-a2fa4df98e12",
   "metadata": {},
   "outputs": [
    {
     "data": {
      "text/html": [
       "<div>\n",
       "<style scoped>\n",
       "    .dataframe tbody tr th:only-of-type {\n",
       "        vertical-align: middle;\n",
       "    }\n",
       "\n",
       "    .dataframe tbody tr th {\n",
       "        vertical-align: top;\n",
       "    }\n",
       "\n",
       "    .dataframe thead th {\n",
       "        text-align: right;\n",
       "    }\n",
       "</style>\n",
       "<table border=\"1\" class=\"dataframe\">\n",
       "  <thead>\n",
       "    <tr style=\"text-align: right;\">\n",
       "      <th></th>\n",
       "      <th>movie_id</th>\n",
       "      <th>title</th>\n",
       "      <th>tags</th>\n",
       "    </tr>\n",
       "  </thead>\n",
       "  <tbody>\n",
       "    <tr>\n",
       "      <th>0</th>\n",
       "      <td>19995</td>\n",
       "      <td>Avatar</td>\n",
       "      <td>In the 22nd century, a paraplegic Marine is di...</td>\n",
       "    </tr>\n",
       "    <tr>\n",
       "      <th>1</th>\n",
       "      <td>285</td>\n",
       "      <td>Pirates of the Caribbean: At World's End</td>\n",
       "      <td>Captain Barbossa, long believed to be dead, ha...</td>\n",
       "    </tr>\n",
       "    <tr>\n",
       "      <th>2</th>\n",
       "      <td>206647</td>\n",
       "      <td>Spectre</td>\n",
       "      <td>A cryptic message from Bond’s past sends him o...</td>\n",
       "    </tr>\n",
       "    <tr>\n",
       "      <th>3</th>\n",
       "      <td>49026</td>\n",
       "      <td>The Dark Knight Rises</td>\n",
       "      <td>Following the death of District Attorney Harve...</td>\n",
       "    </tr>\n",
       "    <tr>\n",
       "      <th>4</th>\n",
       "      <td>49529</td>\n",
       "      <td>John Carter</td>\n",
       "      <td>John Carter is a war-weary, former military ca...</td>\n",
       "    </tr>\n",
       "  </tbody>\n",
       "</table>\n",
       "</div>"
      ],
      "text/plain": [
       "   movie_id                                     title  \\\n",
       "0     19995                                    Avatar   \n",
       "1       285  Pirates of the Caribbean: At World's End   \n",
       "2    206647                                   Spectre   \n",
       "3     49026                     The Dark Knight Rises   \n",
       "4     49529                               John Carter   \n",
       "\n",
       "                                                tags  \n",
       "0  In the 22nd century, a paraplegic Marine is di...  \n",
       "1  Captain Barbossa, long believed to be dead, ha...  \n",
       "2  A cryptic message from Bond’s past sends him o...  \n",
       "3  Following the death of District Attorney Harve...  \n",
       "4  John Carter is a war-weary, former military ca...  "
      ]
     },
     "execution_count": 36,
     "metadata": {},
     "output_type": "execute_result"
    }
   ],
   "source": [
    "movies_df['tags'] = movies_df['tags'].apply(lambda x:' '.join(x))\n",
    "movies_df.head()"
   ]
  },
  {
   "cell_type": "markdown",
   "id": "a4511e26-7e80-4919-a24d-32b982cd6b2a",
   "metadata": {},
   "source": [
    "convert them to lowercase (so as not to confuse same words with different capitalization as different) ... "
   ]
  },
  {
   "cell_type": "code",
   "execution_count": 37,
   "id": "1c131fae-fd7c-4c07-8878-8d7f587824c0",
   "metadata": {},
   "outputs": [],
   "source": [
    "movies_df['tags'] = movies_df['tags'].apply(lambda x:x.lower())"
   ]
  },
  {
   "cell_type": "markdown",
   "id": "0bec6abf-2388-4ae9-a32f-dec8fec80b35",
   "metadata": {},
   "source": [
    "And finally, this is what the tags will look like. "
   ]
  },
  {
   "cell_type": "code",
   "execution_count": 38,
   "id": "b5758a29-e770-4b3e-8321-cb3129b75fb4",
   "metadata": {},
   "outputs": [
    {
     "data": {
      "text/plain": [
       "'in the 22nd century, a paraplegic marine is dispatched to the moon pandora on a unique mission, but becomes torn between following orders and protecting an alien civilization. action adventure fantasy sciencefiction cultureclash future spacewar spacecolony society spacetravel futuristic romance space alien tribe alienplanet cgi marine soldier battle loveaffair antiwar powerrelations mindandsoul 3d ingeniousfilmpartners twentiethcenturyfoxfilmcorporation duneentertainment lightstormentertainment samworthington zoesaldana sigourneyweaver jamescameron jonlandau'"
      ]
     },
     "execution_count": 38,
     "metadata": {},
     "output_type": "execute_result"
    }
   ],
   "source": [
    "movies_df['tags'][0]"
   ]
  },
  {
   "cell_type": "markdown",
   "id": "3c7d8753-840d-45df-bac2-1323d4deea8c",
   "metadata": {},
   "source": [
    "# Preparing our System"
   ]
  },
  {
   "cell_type": "markdown",
   "id": "4afc7d95-57c2-414d-8d64-46edc47d2124",
   "metadata": {},
   "source": [
    "The CountVectorizer function from sklearn converts a collection of text documents to a matrix of token counts, that way we can see the most occuring features in our data. <br><br> We chose 5000 features as our max since our dataframe contains information for 5000 movies and 'english' for the stop_words parameter since our dataframe is in english. This will cause the Vectorizer to ignore words that don't really add meaning to a sentence, such as, 'the', 'and', etc."
   ]
  },
  {
   "cell_type": "code",
   "execution_count": 39,
   "id": "befe53f1-8a6f-4b42-80a3-8ef158ce677e",
   "metadata": {},
   "outputs": [
    {
     "data": {
      "text/plain": [
       "array([[0, 0, 0, ..., 0, 0, 0],\n",
       "       [0, 0, 0, ..., 0, 0, 0],\n",
       "       [0, 0, 0, ..., 0, 0, 0],\n",
       "       ...,\n",
       "       [0, 0, 0, ..., 0, 0, 0],\n",
       "       [0, 0, 0, ..., 0, 0, 0],\n",
       "       [0, 0, 0, ..., 0, 0, 0]], dtype=int64)"
      ]
     },
     "execution_count": 39,
     "metadata": {},
     "output_type": "execute_result"
    }
   ],
   "source": [
    "cv = CountVectorizer(max_features=5000, stop_words='english')\n",
    "vectors = cv.fit_transform(movies_df['tags']).toarray()\n",
    "vectors"
   ]
  },
  {
   "cell_type": "code",
   "execution_count": 40,
   "id": "29a51a0a-3c9b-4716-866f-ab21b5c495f1",
   "metadata": {},
   "outputs": [
    {
     "data": {
      "text/plain": [
       "(4806, 5000)"
      ]
     },
     "execution_count": 40,
     "metadata": {},
     "output_type": "execute_result"
    }
   ],
   "source": [
    "vectors.shape"
   ]
  },
  {
   "cell_type": "markdown",
   "id": "cc9dc6b9-caa7-48a7-969e-06a3bb16553a",
   "metadata": {},
   "source": [
    "This will show the 100 most occuring values in numeric-alphabetical order ↓"
   ]
  },
  {
   "cell_type": "code",
   "execution_count": 41,
   "id": "6ff58ae6-737a-478c-9550-c5460d293d90",
   "metadata": {},
   "outputs": [
    {
     "data": {
      "text/plain": [
       "['000',\n",
       " '007',\n",
       " '10',\n",
       " '100',\n",
       " '11',\n",
       " '12',\n",
       " '13',\n",
       " '14',\n",
       " '1492pictures',\n",
       " '15',\n",
       " '16',\n",
       " '17',\n",
       " '18',\n",
       " '18th',\n",
       " '19',\n",
       " '1930s',\n",
       " '1940s',\n",
       " '1950s',\n",
       " '1960s',\n",
       " '1970s',\n",
       " '1980',\n",
       " '1980s',\n",
       " '1985',\n",
       " '1990s',\n",
       " '19th',\n",
       " '19thcentury',\n",
       " '20',\n",
       " '200',\n",
       " '2009',\n",
       " '20th',\n",
       " '21lapsentertainment',\n",
       " '24',\n",
       " '25',\n",
       " '2929productions',\n",
       " '30',\n",
       " '300',\n",
       " '3artsentertainment',\n",
       " '3d',\n",
       " '40',\n",
       " '40acres',\n",
       " '50',\n",
       " '500',\n",
       " '60',\n",
       " '60s',\n",
       " '70',\n",
       " 'aaron',\n",
       " 'aaroneckhart',\n",
       " 'abandoned',\n",
       " 'abducted',\n",
       " 'abigailbreslin',\n",
       " 'abilities',\n",
       " 'ability',\n",
       " 'able',\n",
       " 'aboard',\n",
       " 'abrams',\n",
       " 'abuse',\n",
       " 'abusive',\n",
       " 'academy',\n",
       " 'accept',\n",
       " 'accepted',\n",
       " 'accepts',\n",
       " 'access',\n",
       " 'accident',\n",
       " 'accidental',\n",
       " 'accidentally',\n",
       " 'accompanied',\n",
       " 'accomplish',\n",
       " 'account',\n",
       " 'accountant',\n",
       " 'accused',\n",
       " 'ace',\n",
       " 'achieve',\n",
       " 'act',\n",
       " 'acting',\n",
       " 'action',\n",
       " 'actionhero',\n",
       " 'actions',\n",
       " 'activist',\n",
       " 'activities',\n",
       " 'activity',\n",
       " 'actor',\n",
       " 'actors',\n",
       " 'actress',\n",
       " 'acts',\n",
       " 'actual',\n",
       " 'actually',\n",
       " 'adam',\n",
       " 'adammckay',\n",
       " 'adams',\n",
       " 'adamsandler',\n",
       " 'adamshankman',\n",
       " 'adaptation',\n",
       " 'adapted',\n",
       " 'addict',\n",
       " 'addicted',\n",
       " 'addiction',\n",
       " 'adolescence',\n",
       " 'adopt',\n",
       " 'adopted',\n",
       " 'adoption',\n",
       " 'adopts']"
      ]
     },
     "execution_count": 41,
     "metadata": {},
     "output_type": "execute_result"
    }
   ],
   "source": [
    "cv.get_feature_names()[:101]"
   ]
  },
  {
   "cell_type": "markdown",
   "id": "c92bd767-3961-4d2b-b4d0-e57ab6ca9e1f",
   "metadata": {},
   "source": [
    "# Stemming Features"
   ]
  },
  {
   "cell_type": "markdown",
   "id": "75916206-bac3-4284-b657-77af9bd6e25b",
   "metadata": {},
   "source": [
    "We will use the PorterStemmer function from the NLTK (Natural Language Toolkit) library to reduce words down to their root word. This will keep words that mean the same thing, like 'actions' and 'action', to be counted as different words. <br><br> \n",
    "> The **NLTK (Natural Language Toolkit)** library is the go-to API for Natural Language Processing with Python. It is a really powerful tool to preprocess text data for further analysis like with recommendation systems for instance.<br><br>\n",
    "> The **PorterStemmer** is a function that removes any prefixes or suffixes from words, leaving only the word stem, hence the name."
   ]
  },
  {
   "cell_type": "code",
   "execution_count": 42,
   "id": "8e6727c6-c5a8-44b2-985a-c3a54bbc8e80",
   "metadata": {},
   "outputs": [],
   "source": [
    "ps = PorterStemmer()"
   ]
  },
  {
   "cell_type": "code",
   "execution_count": 43,
   "id": "143198d3-6a2c-4d98-99e6-7971425c3f81",
   "metadata": {},
   "outputs": [],
   "source": [
    "def stemming(text):\n",
    "    li=[]\n",
    "    for i in text.split():\n",
    "        li.append(ps.stem(i))\n",
    "        \n",
    "    return ' '.join(li)"
   ]
  },
  {
   "cell_type": "code",
   "execution_count": 44,
   "id": "0540dffa-9add-4a00-86dd-a68e45df401d",
   "metadata": {},
   "outputs": [],
   "source": [
    "movies_df['tags'] = movies_df['tags'].apply(stemming)"
   ]
  },
  {
   "cell_type": "markdown",
   "id": "3d4881fa-51e3-48f2-a637-97b0ce7a95ec",
   "metadata": {},
   "source": [
    "# Similarities "
   ]
  },
  {
   "cell_type": "markdown",
   "id": "51a7ff77-b32a-45f1-b693-39ae985dca72",
   "metadata": {},
   "source": [
    "Using the cosine_similarity function from sklearn, we obtain the cosine distance between each movie vector. Cosine_similarity is frequently used in natural language processing and machine learning to compare the similarity of documents, text, or other high-dimensional data. That is to say, the angle between each vector. The smaller the angle, the more similar the data points, in this case movies, are. "
   ]
  },
  {
   "cell_type": "code",
   "execution_count": 45,
   "id": "cbe655e7-5853-4499-8838-46b1eb79ecb4",
   "metadata": {},
   "outputs": [
    {
     "data": {
      "text/plain": [
       "array([[1.        , 0.08006408, 0.05337605, ..., 0.02414023, 0.02668803,\n",
       "        0.        ],\n",
       "       [0.08006408, 1.        , 0.05555556, ..., 0.02512595, 0.        ,\n",
       "        0.        ],\n",
       "       [0.05337605, 0.05555556, 1.        , ..., 0.02512595, 0.        ,\n",
       "        0.        ],\n",
       "       ...,\n",
       "       [0.02414023, 0.02512595, 0.02512595, ..., 1.        , 0.07537784,\n",
       "        0.04956816],\n",
       "       [0.02668803, 0.        , 0.        , ..., 0.07537784, 1.        ,\n",
       "        0.05479966],\n",
       "       [0.        , 0.        , 0.        , ..., 0.04956816, 0.05479966,\n",
       "        1.        ]])"
      ]
     },
     "execution_count": 45,
     "metadata": {},
     "output_type": "execute_result"
    }
   ],
   "source": [
    "similarity = cosine_similarity(vectors)\n",
    "similarity"
   ]
  },
  {
   "cell_type": "code",
   "execution_count": 46,
   "id": "e83cde27-f516-4319-bacd-12e3a0429448",
   "metadata": {},
   "outputs": [
    {
     "data": {
      "text/plain": [
       "(4806, 4806)"
      ]
     },
     "execution_count": 46,
     "metadata": {},
     "output_type": "execute_result"
    }
   ],
   "source": [
    "similarity.shape"
   ]
  },
  {
   "cell_type": "markdown",
   "id": "35c88d90-5524-4ee8-a387-5580a794d9a8",
   "metadata": {},
   "source": [
    "↑ 4806 comparisons for 4806 movies."
   ]
  },
  {
   "cell_type": "markdown",
   "id": "ab9a85b5-c801-46c2-8abc-65634f9050fc",
   "metadata": {},
   "source": [
    "Here ↓ we will enumerate and sort the similarities in descending order to get the top 5 similar movies.<br><br> *Enumerating* allows us to keep the index order of the movies.<br><br> Using the *lambda* function, we sort using the second value in each tuple, those being the similarity scores. "
   ]
  },
  {
   "cell_type": "code",
   "execution_count": 47,
   "id": "5661d6a4-a169-4031-82bd-2bb68357eaf4",
   "metadata": {},
   "outputs": [
    {
     "data": {
      "text/plain": [
       "[(539, 0.2668802563418119),\n",
       " (1216, 0.2656722567395829),\n",
       " (507, 0.26148818018424536),\n",
       " (2409, 0.2470831055537004),\n",
       " (220, 0.2300789234172203)]"
      ]
     },
     "execution_count": 47,
     "metadata": {},
     "output_type": "execute_result"
    }
   ],
   "source": [
    "sorted(list(enumerate(similarity[0])), reverse=True, key=lambda x:x[1])[1:6] "
   ]
  },
  {
   "cell_type": "markdown",
   "id": "7faebe08-32cf-4b26-983e-34905d0cd164",
   "metadata": {},
   "source": [
    "# Recommendation Function"
   ]
  },
  {
   "cell_type": "markdown",
   "id": "1085be6f-7344-434d-9659-74b52907a35f",
   "metadata": {},
   "source": [
    "Finally, we have prepared our dataset for final use and we can use it to build our new movie recommendation system. "
   ]
  },
  {
   "cell_type": "code",
   "execution_count": 48,
   "id": "c852da10-de0a-4175-b2d1-b2d31f9d1c63",
   "metadata": {},
   "outputs": [],
   "source": [
    "def recommend(movie): \n",
    "    movies_index = movies_df[movies_df['title'] == movie].index[0]\n",
    "    distances = similarity[movies_index]\n",
    "    movies_list = sorted(list(enumerate(distances)), reverse=True, key=lambda x:x[1])[1:6]\n",
    "    \n",
    "    for i in movies_list:\n",
    "        print(movies_df.iloc[i[0]].title)"
   ]
  },
  {
   "cell_type": "markdown",
   "id": "f627e06a-af22-484f-b6da-1c6006196c0e",
   "metadata": {},
   "source": [
    "## Example 1 "
   ]
  },
  {
   "cell_type": "code",
   "execution_count": 49,
   "id": "84f939f7-41dc-40f6-945f-fdb7d002c1f6",
   "metadata": {},
   "outputs": [
    {
     "name": "stdout",
     "output_type": "stream",
     "text": [
      "Titan A.E.\n",
      "Aliens vs Predator: Requiem\n",
      "Independence Day\n",
      "Aliens\n",
      "Prometheus\n"
     ]
    }
   ],
   "source": [
    "recommend('Avatar')"
   ]
  },
  {
   "cell_type": "markdown",
   "id": "df43bf40-7396-44be-9514-50cfd8f84a29",
   "metadata": {},
   "source": [
    "## Example 2"
   ]
  },
  {
   "cell_type": "code",
   "execution_count": 50,
   "id": "a7d91380-0958-4a28-b8a7-c57d26948b31",
   "metadata": {},
   "outputs": [
    {
     "name": "stdout",
     "output_type": "stream",
     "text": [
      "The Dark Knight\n",
      "The Dark Knight Rises\n",
      "Batman v Superman: Dawn of Justice\n",
      "Batman\n",
      "Batman & Robin\n"
     ]
    }
   ],
   "source": [
    "recommend('Batman Begins')"
   ]
  },
  {
   "cell_type": "markdown",
   "id": "fab25c84-a98c-4202-b730-5ca06be164f6",
   "metadata": {},
   "source": [
    "<br><br><br>"
   ]
  },
  {
   "cell_type": "code",
   "execution_count": 51,
   "id": "0b9574bd-b84c-4fa5-b9ed-8b897acdba6c",
   "metadata": {},
   "outputs": [
    {
     "name": "stdout",
     "output_type": "stream",
     "text": [
      "Last updated: 2023-02-15T01:46:49.464485-05:00\n",
      "\n",
      "Python implementation: CPython\n",
      "Python version       : 3.10.8\n",
      "IPython version      : 8.6.0\n",
      "\n",
      "Compiler    : MSC v.1933 64 bit (AMD64)\n",
      "OS          : Windows\n",
      "Release     : 10\n",
      "Machine     : AMD64\n",
      "Processor   : Intel64 Family 6 Model 142 Stepping 12, GenuineIntel\n",
      "CPU cores   : 4\n",
      "Architecture: 64bit\n",
      "\n"
     ]
    }
   ],
   "source": [
    "%watermark"
   ]
  }
 ],
 "metadata": {
  "kernelspec": {
   "display_name": "Python 3 (ipykernel)",
   "language": "python",
   "name": "python3"
  },
  "language_info": {
   "codemirror_mode": {
    "name": "ipython",
    "version": 3
   },
   "file_extension": ".py",
   "mimetype": "text/x-python",
   "name": "python",
   "nbconvert_exporter": "python",
   "pygments_lexer": "ipython3",
   "version": "3.10.8"
  }
 },
 "nbformat": 4,
 "nbformat_minor": 5
}
